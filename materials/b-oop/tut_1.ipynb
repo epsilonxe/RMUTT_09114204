{
 "cells": [
  {
   "cell_type": "markdown",
   "id": "3939f5e3",
   "metadata": {},
   "source": [
    "**Object-oriented programming (OOP)** is a method of structuring a program by bundling related properties and behaviors into individual objects. In this tutorial, you’ll learn the basics of object-oriented programming in Python.\n",
    "\n",
    "Conceptually, objects are like the components of a system. Think of a program as a factory assembly line of sorts. At each step of the assembly line a system component processes some material, ultimately transforming raw material into a finished product.\n",
    "\n",
    "An object contains data, like the raw or preprocessed materials at each step on an assembly line, and behavior, like the action each assembly line component performs.\n",
    "\n",
    "In this tutorial, you’ll learn how to:\n",
    "\n",
    "- Create a class, which is like a blueprint for creating an object\n",
    "- Use classes to create new objects\n",
    "- Model systems with class inheritance"
   ]
  },
  {
   "cell_type": "markdown",
   "id": "71db9899",
   "metadata": {},
   "source": [
    "# What Is Object-Oriented Programming in Python?\n",
    "\n",
    "Object-oriented programming is a programming paradigm that provides a means of structuring programs so that properties and behaviors are bundled into individual objects.\n",
    "\n",
    "For instance, an object could represent a person with properties like a name, age, and address and behaviors such as walking, talking, breathing, and running. Or it could represent an email with properties like a recipient list, subject, and body and behaviors like adding attachments and sending.\n",
    "\n",
    "Put another way, object-oriented programming is an approach for modeling concrete, real-world things, like cars, as well as relations between things, like companies and employees, students and teachers, and so on. OOP models real-world entities as software objects that have some data associated with them and can perform certain functions.\n",
    "\n",
    "Another common programming paradigm is procedural programming, which structures a program like a recipe in that it provides a set of steps, in the form of functions and code blocks, that flow sequentially in order to complete a task.\n",
    "\n",
    "The key takeaway is that objects are at the center of object-oriented programming in Python, not only representing the data, as in procedural programming, but in the overall structure of the program as well."
   ]
  },
  {
   "cell_type": "markdown",
   "id": "e6d5d3ee",
   "metadata": {},
   "source": [
    "# Define a Class in Python\n",
    "\n",
    "Primitive data structures—like numbers, strings, and lists—are designed to represent simple pieces of information, such as the cost of an apple, the name of a poem, or your favorite colors, respectively. What if you want to represent something more complex?\n",
    "\n",
    "For example, let’s say you want to track employees in an organization. You need to store some basic information about each employee, such as their name, age, position, and the year they started working.\n",
    "\n",
    "One way to do this is to represent each employee as a list:"
   ]
  },
  {
   "cell_type": "code",
   "execution_count": null,
   "id": "e4f21379",
   "metadata": {},
   "outputs": [],
   "source": [
    "kirk = [\"James Kirk\", 34, \"Captain\", 2265]\n",
    "spock = [\"Spock\", 35, \"Science Officer\", 2254]\n",
    "mccoy = [\"Leonard McCoy\", \"Chief Medical Officer\", 2266]"
   ]
  },
  {
   "cell_type": "markdown",
   "id": "e76a4062",
   "metadata": {},
   "source": [
    "There are a number of issues with this approach.\n",
    "\n",
    "First, it can make larger code files more difficult to manage. If you reference `kirk[0]` several lines away from where the kirk list is declared, will you remember that the element with index 0 is the employee’s name?\n",
    "\n",
    "Second, it can introduce errors if not every employee has the same number of elements in the list. In the mccoy list above, the age is missing, so `mccoy[1]` will return \"Chief Medical Officer\" instead of Dr. McCoy’s age.\n",
    "\n",
    "A great way to make this type of code more manageable and more maintainable is to use classes."
   ]
  },
  {
   "cell_type": "markdown",
   "id": "b90cfffd",
   "metadata": {},
   "source": [
    "## Classes vs Instances\n",
    "Classes are used to create user-defined data structures. Classes define functions called methods, which identify the behaviors and actions that an object created from the class can perform with its data.\n",
    "\n",
    "In this tutorial, you’ll create a Dog class that stores some information about the characteristics and behaviors that an individual dog can have.\n",
    "\n",
    "A class is a blueprint for how something should be defined. It doesn’t actually contain any data. The Dog class specifies that a name and an age are necessary for defining a dog, but it doesn’t contain the name or age of any specific dog.\n",
    "\n",
    "While the class is the blueprint, an instance is an object that is built from a class and contains real data. An instance of the Dog class is not a blueprint anymore. It’s an actual dog with a name, like Miles, who’s four years old.\n",
    "\n",
    "Put another way, a class is like a form or questionnaire. An instance is like a form that has been filled out with information. Just like many people can fill out the same form with their own unique information, many instances can be created from a single class.\n",
    "\n",
    "## How to Define a Class\n",
    "All class definitions start with the class keyword, which is followed by the name of the class and a colon. Any code that is indented below the class definition is considered part of the class’s body.\n",
    "\n",
    "Here’s an example of a Dog class:"
   ]
  },
  {
   "cell_type": "code",
   "execution_count": null,
   "id": "afbdd833",
   "metadata": {},
   "outputs": [],
   "source": [
    "class Dog:\n",
    "    pass"
   ]
  },
  {
   "cell_type": "markdown",
   "id": "101e9f57",
   "metadata": {},
   "source": [
    "> **Note**: Python class names are written in **CapitalizedWords** notation by convention. For example, a class for a specific breed of dog like the *Jack Russell Terrier* would be written as JackRussellTerrier.\n",
    "\n",
    "The body of the Dog class consists of a single statement: the pass keyword. pass is often used as a placeholder indicating where code will eventually go. It allows you to run this code without Python throwing an error.\n",
    "\n",
    "The Dog class isn’t very interesting right now, so let’s spruce it up a bit by defining some properties that all Dog objects should have. There are a number of properties that we can choose from, including name, age, coat color, and breed. To keep things simple, we’ll just use name and age.\n",
    "\n",
    "The properties that all Dog objects must have are defined in a method called `.__init__()`. Every time a new Dog object is created, `.__init__()` sets the initial state of the object by assigning the values of the object’s properties. That is, `.__init__()` initializes each new instance of the class.\n",
    "\n",
    "You can give `.__init__()` any number of parameters, but the first parameter will always be a variable called self. When a new class instance is created, the instance is automatically passed to the self parameter in `.__init__()` so that new attributes can be defined on the object.\n",
    "\n",
    "Let’s update the Dog class with an `.__init__()` method that creates `.name` and `.age` attributes:"
   ]
  },
  {
   "cell_type": "code",
   "execution_count": null,
   "id": "e4f75dd5",
   "metadata": {},
   "outputs": [],
   "source": [
    "class Dog:\n",
    "    def __init__(self, name, age):\n",
    "        self.name = name\n",
    "        self.age = age"
   ]
  },
  {
   "cell_type": "markdown",
   "id": "a68ec96a",
   "metadata": {},
   "source": [
    "Notice that the `.__init__()` method’s signature is indented four spaces. The body of the method is indented by eight spaces. This indentation is vitally important. It tells Python that the `.__init__()` method belongs to the Dog class.\n",
    "\n",
    "In the body of `.__init__()`, there are two statements using the self variable:\n",
    "\n",
    "1. `self.name = name` creates an attribute called name and assigns to it the value of the name parameter.\n",
    "\n",
    "2. `self.age = age` creates an attribute called age and assigns to it the value of the age parameter.\n",
    "\n",
    "Attributes created in `.__init__()` are called instance attributes. An instance attribute’s value is specific to a particular instance of the class. All Dog objects have a name and an age, but the values for the name and age attributes will vary depending on the Dog instance.\n",
    "\n",
    "On the other hand, class attributes are attributes that have the same value for all class instances. You can define a class attribute by assigning a value to a variable name outside of `.__init__()`.\n",
    "\n",
    "For example, the following Dog class has a class attribute called species with the value \"Canis familiaris\":"
   ]
  },
  {
   "cell_type": "code",
   "execution_count": null,
   "id": "4068ae87",
   "metadata": {},
   "outputs": [],
   "source": [
    "class Dog:\n",
    "    # Class attribute\n",
    "    species = \"Canis familiaris\"\n",
    "\n",
    "    def __init__(self, name, age):\n",
    "        self.name = name\n",
    "        self.age = age"
   ]
  },
  {
   "cell_type": "markdown",
   "id": "97070d89",
   "metadata": {},
   "source": [
    "Class attributes are defined directly beneath the first line of the class name and are indented by four spaces. They must always be assigned an initial value. When an instance of the class is created, class attributes are automatically created and assigned to their initial values.\n",
    "\n",
    "Use class attributes to define properties that should have the same value for every class instance. Use instance attributes for properties that vary from one instance to another.\n",
    "\n",
    "Now that we have a Dog class, let’s create some dogs!"
   ]
  },
  {
   "cell_type": "markdown",
   "id": "7e65a14b",
   "metadata": {},
   "source": [
    "# Instantiate an Object in Python\n",
    "\n",
    "Try the following:"
   ]
  },
  {
   "cell_type": "code",
   "execution_count": null,
   "id": "00ed272d",
   "metadata": {},
   "outputs": [],
   "source": [
    "class Dog:\n",
    "    pass"
   ]
  },
  {
   "cell_type": "markdown",
   "id": "83373d60",
   "metadata": {},
   "source": [
    "This creates a new Dog class with no attributes or methods.\n",
    "\n",
    "Creating a new object from a class is called instantiating an object. You can instantiate a new Dog object by typing the name of the class, followed by opening and closing parentheses:"
   ]
  },
  {
   "cell_type": "code",
   "execution_count": null,
   "id": "97247766",
   "metadata": {},
   "outputs": [],
   "source": [
    "Dog()"
   ]
  },
  {
   "cell_type": "markdown",
   "id": "f6ef3a81",
   "metadata": {},
   "source": [
    "The new Dog instance is located at a different memory address. That’s because it’s an entirely new instance and is completely unique from the first Dog object that you instantiated.\n",
    "\n",
    "To see this another way, try the following:"
   ]
  },
  {
   "cell_type": "code",
   "execution_count": null,
   "id": "767b614c",
   "metadata": {},
   "outputs": [],
   "source": [
    "a = Dog()"
   ]
  },
  {
   "cell_type": "code",
   "execution_count": null,
   "id": "58124a5d",
   "metadata": {},
   "outputs": [],
   "source": [
    "b = Dog()"
   ]
  },
  {
   "cell_type": "code",
   "execution_count": null,
   "id": "0f741ce6",
   "metadata": {},
   "outputs": [],
   "source": [
    "a == b"
   ]
  },
  {
   "cell_type": "markdown",
   "id": "a8f5c7dc",
   "metadata": {},
   "source": [
    "In this code, you create two new Dog objects and assign them to the variables `a` and `b`. When you compare `a` and `b` using the `==` operator, the result is `False`. Even though `a` and `b` are both instances of the Dog class, they represent two distinct objects in memory."
   ]
  },
  {
   "cell_type": "code",
   "execution_count": null,
   "id": "e6c340de",
   "metadata": {},
   "outputs": [],
   "source": [
    "a"
   ]
  },
  {
   "cell_type": "code",
   "execution_count": null,
   "id": "dbfbe99e",
   "metadata": {},
   "outputs": [],
   "source": [
    "b"
   ]
  },
  {
   "cell_type": "markdown",
   "id": "574278b2",
   "metadata": {},
   "source": [
    "## Class and Instance Attributes\n",
    "Now create a new Dog class with a class attribute called .species and two instance attributes called `.name` and `.age`:"
   ]
  },
  {
   "cell_type": "code",
   "execution_count": null,
   "id": "5ffd0568",
   "metadata": {},
   "outputs": [],
   "source": [
    "class Dog:\n",
    "    species = \"Canis familiaris\"\n",
    "    def __init__(self, name, age):\n",
    "        self.name = name\n",
    "        self.age = age"
   ]
  },
  {
   "cell_type": "markdown",
   "id": "e3f554fb",
   "metadata": {},
   "source": [
    "To instantiate objects of this Dog class, you need to provide values for the `name` and `age`. If you don’t, then Python raises a `TypeError`:"
   ]
  },
  {
   "cell_type": "code",
   "execution_count": null,
   "id": "d1ccd5ec",
   "metadata": {},
   "outputs": [],
   "source": [
    "Dog()"
   ]
  },
  {
   "cell_type": "markdown",
   "id": "70e39ed8",
   "metadata": {},
   "source": [
    "To pass arguments to the `name` and `age` parameters, put values into the parentheses after the class name:"
   ]
  },
  {
   "cell_type": "code",
   "execution_count": null,
   "id": "a6bf2460",
   "metadata": {},
   "outputs": [],
   "source": [
    "buddy = Dog(\"Buddy\", 9)\n",
    "miles = Dog(\"Miles\", 4)"
   ]
  },
  {
   "cell_type": "markdown",
   "id": "996c6923",
   "metadata": {},
   "source": [
    "This creates two new Dog instances—one for a nine-year-old dog named Buddy and one for a four-year-old dog named Miles.\n",
    "\n",
    "The Dog class’s `.__init__()` method has three parameters, so why are only two arguments passed to it in the example?\n",
    "\n",
    "When you instantiate a Dog object, Python creates a new instance and passes it to the first parameter of `.__init__()`. This essentially removes the self parameter, so you only need to worry about the name and age parameters.\n",
    "\n",
    "After you create the Dog instances, you can access their instance attributes using **dot notation**:"
   ]
  },
  {
   "cell_type": "code",
   "execution_count": null,
   "id": "2c776a4f",
   "metadata": {},
   "outputs": [],
   "source": [
    "buddy.name"
   ]
  },
  {
   "cell_type": "code",
   "execution_count": null,
   "id": "2ba95433",
   "metadata": {},
   "outputs": [],
   "source": [
    "buddy.age"
   ]
  },
  {
   "cell_type": "code",
   "execution_count": null,
   "id": "3d99df48",
   "metadata": {},
   "outputs": [],
   "source": [
    "miles.name"
   ]
  },
  {
   "cell_type": "code",
   "execution_count": null,
   "id": "8f1104bc",
   "metadata": {},
   "outputs": [],
   "source": [
    "miles.age"
   ]
  },
  {
   "cell_type": "markdown",
   "id": "bcd216f4",
   "metadata": {},
   "source": [
    "You can access class attributes the same way:"
   ]
  },
  {
   "cell_type": "code",
   "execution_count": null,
   "id": "90d27aed",
   "metadata": {},
   "outputs": [],
   "source": [
    "buddy.species"
   ]
  },
  {
   "cell_type": "code",
   "execution_count": null,
   "id": "170b4ebd",
   "metadata": {},
   "outputs": [],
   "source": [
    "miles.species"
   ]
  },
  {
   "cell_type": "markdown",
   "id": "12cd908d",
   "metadata": {},
   "source": [
    "One of the biggest advantages of using classes to organize data is that instances are guaranteed to have the attributes you expect. All Dog instances have `.species`, `.name`, and `.age` attributes, so you can use those attributes with confidence knowing that they will always return a value.\n",
    "\n",
    "Although the attributes are guaranteed to exist, their values can be changed dynamically:"
   ]
  },
  {
   "cell_type": "code",
   "execution_count": null,
   "id": "45e51537",
   "metadata": {},
   "outputs": [],
   "source": [
    "buddy.age = 10"
   ]
  },
  {
   "cell_type": "code",
   "execution_count": null,
   "id": "5dafa7a6",
   "metadata": {},
   "outputs": [],
   "source": [
    "buddy.age"
   ]
  },
  {
   "cell_type": "code",
   "execution_count": null,
   "id": "9a4fa809",
   "metadata": {},
   "outputs": [],
   "source": [
    "miles.species = \"Felis silvestris\""
   ]
  },
  {
   "cell_type": "code",
   "execution_count": null,
   "id": "86205e09",
   "metadata": {},
   "outputs": [],
   "source": [
    "miles.species"
   ]
  },
  {
   "cell_type": "markdown",
   "id": "f94d5559",
   "metadata": {},
   "source": [
    "In this example, you change the `.age` attribute of the buddy object to 10. Then you change the `.species` attribute of the miles object to \"Felis silvestris\", which is a species of cat. That makes Miles a pretty strange dog, but it is valid Python!"
   ]
  },
  {
   "cell_type": "markdown",
   "id": "c033f72b",
   "metadata": {},
   "source": [
    "The key takeaway here is that custom objects are mutable by default. An object is mutable if it can be altered dynamically. For example, lists and dictionaries are mutable, but strings and tuples are immutable."
   ]
  },
  {
   "cell_type": "markdown",
   "id": "a8f0d8d2",
   "metadata": {},
   "source": [
    "## Instance Methods\n",
    "Instance methods are functions that are defined inside a class and can only be called from an instance of that class. Just like `.__init__()`, an instance method’s first parameter is always self.\n",
    "\n",
    "Consider the following Dog class:"
   ]
  },
  {
   "cell_type": "code",
   "execution_count": null,
   "id": "d71e3548",
   "metadata": {},
   "outputs": [],
   "source": [
    "class Dog:\n",
    "    species = \"Canis familiaris\"\n",
    "\n",
    "    def __init__(self, name, age):\n",
    "        self.name = name\n",
    "        self.age = age\n",
    "\n",
    "    # Instance method\n",
    "    def description(self):\n",
    "        return f\"{self.name} is {self.age} years old\"\n",
    "\n",
    "    # Another instance method\n",
    "    def speak(self, sound):\n",
    "        return f\"{self.name} says {sound}\""
   ]
  },
  {
   "cell_type": "markdown",
   "id": "da8a066b",
   "metadata": {},
   "source": [
    "This Dog class has two instance methods:\n",
    "\n",
    "1. `.description()` returns a string displaying the name and age of the dog.\n",
    "2. `.speak()` has one parameter called sound and returns a string containing the dog’s name and the sound the dog makes.\n",
    "\n",
    "Check the following to see your instance methods in action:"
   ]
  },
  {
   "cell_type": "code",
   "execution_count": null,
   "id": "9f6e18df",
   "metadata": {},
   "outputs": [],
   "source": [
    "miles = Dog(\"Miles\", 4)\n",
    "miles.description()"
   ]
  },
  {
   "cell_type": "code",
   "execution_count": null,
   "id": "f81a481f",
   "metadata": {},
   "outputs": [],
   "source": [
    "miles.speak(\"Woof Woof\")"
   ]
  },
  {
   "cell_type": "code",
   "execution_count": null,
   "id": "9a08a2da",
   "metadata": {},
   "outputs": [],
   "source": [
    "miles.speak(\"Bow Wow\")"
   ]
  },
  {
   "cell_type": "markdown",
   "id": "4fa74441",
   "metadata": {},
   "source": [
    "In the above Dog class, `.description()` returns a string containing information about the Dog instance miles. When writing your own classes, it’s a good idea to have a method that returns a string containing useful information about an instance of the class. However, `.description()` isn’t the most Pythonic way of doing this.\n",
    "\n",
    "When you create a list object, you can use `print()` to display a string that looks like the list:"
   ]
  },
  {
   "cell_type": "code",
   "execution_count": null,
   "id": "34e8e48f",
   "metadata": {},
   "outputs": [],
   "source": [
    "names = [\"Fletcher\", \"David\", \"Dan\"]\n",
    "print(names)"
   ]
  },
  {
   "cell_type": "markdown",
   "id": "ba75e50e",
   "metadata": {},
   "source": [
    "Let’s see what happens when you `print()` the miles object:"
   ]
  },
  {
   "cell_type": "code",
   "execution_count": null,
   "id": "404a22f7",
   "metadata": {},
   "outputs": [],
   "source": [
    "print(miles)"
   ]
  },
  {
   "cell_type": "markdown",
   "id": "190eb62a",
   "metadata": {},
   "source": [
    "When you `print(miles)`, you get a cryptic looking message telling you that miles is a Dog object at the memory address like **0x00aeff70**. This message isn’t very helpful. You can change what gets printed by defining a special instance method called `.__str__()`.\n",
    "\n",
    "In the editor window, change the name of the Dog class’s `.description()` method to `.__str__()`:"
   ]
  },
  {
   "cell_type": "code",
   "execution_count": null,
   "id": "870b8b88",
   "metadata": {},
   "outputs": [],
   "source": [
    "class Dog:\n",
    "    species = \"Canis familiaris\"\n",
    "\n",
    "    def __init__(self, name, age):\n",
    "        self.name = name\n",
    "        self.age = age\n",
    "\n",
    "    # Replace .description() with __str__()\n",
    "    def __str__(self):\n",
    "        return f\"{self.name} is {self.age} years old\"\n",
    "\n",
    "    def speak(self, sound):\n",
    "        return f\"{self.name} says {sound}\"   "
   ]
  },
  {
   "cell_type": "markdown",
   "id": "8353a587",
   "metadata": {},
   "source": [
    "Now, when you `print(miles)`, you get a much friendlier output:"
   ]
  },
  {
   "cell_type": "code",
   "execution_count": null,
   "id": "0ccbe938",
   "metadata": {},
   "outputs": [],
   "source": [
    "miles = Dog(\"Miles\", 4)\n",
    "print(miles)"
   ]
  },
  {
   "cell_type": "markdown",
   "id": "892aab4e",
   "metadata": {},
   "source": [
    "Methods like `.__init__()` and `.__str__()` are called dunder methods because they begin and end with double underscores. There are many dunder methods that you can use to customize classes in Python. Although too advanced a topic for a beginning Python book, understanding dunder methods is an important part of mastering object-oriented programming in Python.\n",
    "\n",
    "In the next section, you’ll see how to take your knowledge one step further and create classes from other classes.\n",
    "\n",
    "----------"
   ]
  },
  {
   "cell_type": "markdown",
   "id": "61dc07c9",
   "metadata": {},
   "source": [
    "# Your turn!\n",
    "\n",
    "It is time to check your understanign, so try to complete the following [exercise](exercises/ex_1.ipynb)."
   ]
  },
  {
   "cell_type": "markdown",
   "id": "ee1da80c",
   "metadata": {},
   "source": [
    "----------"
   ]
  }
 ],
 "metadata": {
  "kernelspec": {
   "display_name": "Python 3 (ipykernel)",
   "language": "python",
   "name": "python3"
  },
  "language_info": {
   "codemirror_mode": {
    "name": "ipython",
    "version": 3
   },
   "file_extension": ".py",
   "mimetype": "text/x-python",
   "name": "python",
   "nbconvert_exporter": "python",
   "pygments_lexer": "ipython3",
   "version": "3.11.0"
  }
 },
 "nbformat": 4,
 "nbformat_minor": 5
}
