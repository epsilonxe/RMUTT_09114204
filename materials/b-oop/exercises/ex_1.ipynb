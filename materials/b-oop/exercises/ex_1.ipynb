{
 "cells": [
  {
   "cell_type": "markdown",
   "id": "a0da1edb",
   "metadata": {},
   "source": [
    "# Exercise\n",
    "\n",
    "------"
   ]
  },
  {
   "cell_type": "markdown",
   "id": "486964aa",
   "metadata": {},
   "source": [
    "## 1\n",
    "\n",
    "Create a Car class with two instance attributes:\n",
    "\n",
    "1. `.color`, which stores the name of the car’s color as a string\n",
    "2. `.mileage`, which stores the number of miles on the car as an integer\n",
    "\n",
    "Then instantiate two Car objects—a blue car with 20,000 miles and a red car with 30,000 miles—and print out their colors and mileage. Your output should look like this:\n",
    "\n",
    "```console\n",
    "The blue car has 20,000 miles.\n",
    "The red car has 30,000 miles.\n",
    "```"
   ]
  },
  {
   "cell_type": "code",
   "execution_count": null,
   "id": "6bb9755e",
   "metadata": {},
   "outputs": [],
   "source": [
    "\n",
    "\n",
    "\n",
    "\n"
   ]
  },
  {
   "cell_type": "markdown",
   "id": "fec9a8e4",
   "metadata": {},
   "source": [
    "---------"
   ]
  },
  {
   "cell_type": "markdown",
   "id": "dae16ee7",
   "metadata": {},
   "source": [
    "## 2\n",
    "\n"
   ]
  },
  {
   "cell_type": "code",
   "execution_count": null,
   "id": "bb8db339",
   "metadata": {},
   "outputs": [],
   "source": []
  },
  {
   "cell_type": "markdown",
   "id": "940040e6",
   "metadata": {},
   "source": [
    "------------"
   ]
  }
 ],
 "metadata": {
  "kernelspec": {
   "display_name": "Python 3 (ipykernel)",
   "language": "python",
   "name": "python3"
  },
  "language_info": {
   "codemirror_mode": {
    "name": "ipython",
    "version": 3
   },
   "file_extension": ".py",
   "mimetype": "text/x-python",
   "name": "python",
   "nbconvert_exporter": "python",
   "pygments_lexer": "ipython3",
   "version": "3.11.0"
  }
 },
 "nbformat": 4,
 "nbformat_minor": 5
}
