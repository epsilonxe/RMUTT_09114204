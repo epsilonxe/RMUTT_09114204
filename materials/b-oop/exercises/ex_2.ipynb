{
 "cells": [
  {
   "cell_type": "markdown",
   "id": "1003aa51",
   "metadata": {},
   "source": [
    "# Exercise\n",
    "\n",
    "------"
   ]
  },
  {
   "cell_type": "markdown",
   "id": "da79e4a5",
   "metadata": {},
   "source": [
    "## 1\n",
    "\n",
    "Create a `GoldenRetriever` class that inherits from the `Dog` class. Give the sound argument of `GoldenRetriever.speak()` a default value of \"Bark\". Use the following code for your parent `Dog` class:"
   ]
  },
  {
   "cell_type": "code",
   "execution_count": 1,
   "id": "178f3d0c",
   "metadata": {},
   "outputs": [],
   "source": [
    "class Dog:\n",
    "    species = \"Canis familiaris\"\n",
    "\n",
    "    def __init__(self, name, age):\n",
    "        self.name = name\n",
    "        self.age = age\n",
    "\n",
    "    def __str__(self):\n",
    "        return f\"{self.name} is {self.age} years old\"\n",
    "\n",
    "    def speak(self, sound):\n",
    "        return f\"{self.name} says {sound}\""
   ]
  },
  {
   "cell_type": "code",
   "execution_count": 2,
   "id": "fa5377d9",
   "metadata": {},
   "outputs": [],
   "source": [
    "# Your code here:\n",
    "\n",
    "\n",
    "\n"
   ]
  },
  {
   "cell_type": "markdown",
   "id": "d08c35a5",
   "metadata": {},
   "source": [
    "----------"
   ]
  }
 ],
 "metadata": {
  "kernelspec": {
   "display_name": "Python 3 (ipykernel)",
   "language": "python",
   "name": "python3"
  },
  "language_info": {
   "codemirror_mode": {
    "name": "ipython",
    "version": 3
   },
   "file_extension": ".py",
   "mimetype": "text/x-python",
   "name": "python",
   "nbconvert_exporter": "python",
   "pygments_lexer": "ipython3",
   "version": "3.11.0"
  }
 },
 "nbformat": 4,
 "nbformat_minor": 5
}
