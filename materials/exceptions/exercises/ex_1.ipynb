{
 "cells": [
  {
   "cell_type": "markdown",
   "id": "9281e813",
   "metadata": {},
   "source": [
    "# Exercise\n",
    "------"
   ]
  },
  {
   "cell_type": "markdown",
   "id": "61a751eb",
   "metadata": {},
   "source": [
    "## 1\n",
    "\n",
    "Write a function `division()` that accepts two arguments. The function should be able to catch an exception such as `ZeroDivisionError`, `ValueError`, or any unknown error you might come across when you are doing a division operation."
   ]
  },
  {
   "cell_type": "code",
   "execution_count": 12,
   "id": "994010b8",
   "metadata": {},
   "outputs": [],
   "source": [
    "def division(x, y):\n",
    "    pass"
   ]
  },
  {
   "cell_type": "code",
   "execution_count": 11,
   "id": "00aaedce",
   "metadata": {},
   "outputs": [
    {
     "name": "stdout",
     "output_type": "stream",
     "text": [
      "-2/-2 = None\n",
      "-2/-1 = None\n",
      "-2/0 = None\n",
      "-2/1 = None\n",
      "-2/2 = None\n",
      "-1/-2 = None\n",
      "-1/-1 = None\n",
      "-1/0 = None\n",
      "-1/1 = None\n",
      "-1/2 = None\n",
      "0/-2 = None\n",
      "0/-1 = None\n",
      "0/0 = None\n",
      "0/1 = None\n",
      "0/2 = None\n",
      "1/-2 = None\n",
      "1/-1 = None\n",
      "1/0 = None\n",
      "1/1 = None\n",
      "1/2 = None\n",
      "2/-2 = None\n",
      "2/-1 = None\n",
      "2/0 = None\n",
      "2/1 = None\n",
      "2/2 = None\n",
      "Test done.\n"
     ]
    }
   ],
   "source": [
    "# This is some test cases. Run this cell to check!\n",
    "for x in range(-2, 3):\n",
    "    for y in range(-2, 3):\n",
    "        z = division(x, y)\n",
    "        print(f'{x}/{y} = {z}')        \n",
    "print('Test done.')"
   ]
  },
  {
   "cell_type": "markdown",
   "id": "f824df3b",
   "metadata": {},
   "source": [
    "---------"
   ]
  },
  {
   "cell_type": "markdown",
   "id": "94fe56dc",
   "metadata": {},
   "source": [
    "# 2"
   ]
  },
  {
   "cell_type": "code",
   "execution_count": null,
   "id": "d05cdfdf",
   "metadata": {},
   "outputs": [],
   "source": []
  }
 ],
 "metadata": {
  "kernelspec": {
   "display_name": "Python 3 (ipykernel)",
   "language": "python",
   "name": "python3"
  },
  "language_info": {
   "codemirror_mode": {
    "name": "ipython",
    "version": 3
   },
   "file_extension": ".py",
   "mimetype": "text/x-python",
   "name": "python",
   "nbconvert_exporter": "python",
   "pygments_lexer": "ipython3",
   "version": "3.11.0"
  }
 },
 "nbformat": 4,
 "nbformat_minor": 5
}
