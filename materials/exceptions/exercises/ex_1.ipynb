{
 "cells": [
  {
   "cell_type": "markdown",
   "id": "9281e813",
   "metadata": {},
   "source": [
    "# Exercise\n",
    "------"
   ]
  },
  {
   "cell_type": "markdown",
   "id": "61a751eb",
   "metadata": {},
   "source": [
    "## 1\n",
    "\n",
    "Write a function `division()` that accepts two arguments `x` and `y` and return the value of `x/y`. \n",
    "\n",
    "The function must be able to catch an exception such as `ZeroDivisionError`, `ValueError`, or any unknown error you might come across when you are doing the division operation."
   ]
  },
  {
   "cell_type": "code",
   "execution_count": 2,
   "id": "994010b8",
   "metadata": {},
   "outputs": [],
   "source": [
    "def division(x, y):\n",
    "    pass"
   ]
  },
  {
   "cell_type": "code",
   "execution_count": 6,
   "id": "00aaedce",
   "metadata": {},
   "outputs": [
    {
     "name": "stdout",
     "output_type": "stream",
     "text": [
      "-2/-2 = None\n",
      "-2/-1 = None\n",
      "-2/0 = None\n",
      "-2/1 = None\n",
      "-2/2 = None\n",
      "-1/-2 = None\n",
      "-1/-1 = None\n",
      "-1/0 = None\n",
      "-1/1 = None\n",
      "-1/2 = None\n",
      "0/-2 = None\n",
      "0/-1 = None\n",
      "0/0 = None\n",
      "0/1 = None\n",
      "0/2 = None\n",
      "1/-2 = None\n",
      "1/-1 = None\n",
      "1/0 = None\n",
      "1/1 = None\n",
      "1/2 = None\n",
      "2/-2 = None\n",
      "2/-1 = None\n",
      "2/0 = None\n",
      "2/1 = None\n",
      "2/2 = None\n",
      "Test done.\n"
     ]
    }
   ],
   "source": [
    "# This is some test cases. Run this cell to check!\n",
    "\n",
    "for x in range(-2, 3):\n",
    "    for y in range(-2, 3):\n",
    "        z = division(x, y)\n",
    "        print(f'{x}/{y} = {z}')        \n",
    "print('Test done.')"
   ]
  },
  {
   "cell_type": "code",
   "execution_count": 5,
   "id": "0748168d",
   "metadata": {},
   "outputs": [
    {
     "name": "stdout",
     "output_type": "stream",
     "text": [
      "11/-5 = None\n",
      "11/-4 = None\n",
      "11/-3 = None\n",
      "11/-2 = None\n",
      "11/-1 = None\n",
      "11/0 = None\n",
      "11/1 = None\n",
      "11/2 = None\n",
      "11/3 = None\n",
      "11/4 = None\n",
      "22.5/-5 = None\n",
      "22.5/-4 = None\n",
      "22.5/-3 = None\n",
      "22.5/-2 = None\n",
      "22.5/-1 = None\n",
      "22.5/0 = None\n",
      "22.5/1 = None\n",
      "22.5/2 = None\n",
      "22.5/3 = None\n",
      "22.5/4 = None\n",
      "-44/-5 = None\n",
      "-44/-4 = None\n",
      "-44/-3 = None\n",
      "-44/-2 = None\n",
      "-44/-1 = None\n",
      "-44/0 = None\n",
      "-44/1 = None\n",
      "-44/2 = None\n",
      "-44/3 = None\n",
      "-44/4 = None\n",
      "Hello/-5 = None\n",
      "Hello/-4 = None\n",
      "Hello/-3 = None\n",
      "Hello/-2 = None\n",
      "Hello/-1 = None\n",
      "Hello/0 = None\n",
      "Hello/1 = None\n",
      "Hello/2 = None\n",
      "Hello/3 = None\n",
      "Hello/4 = None\n",
      "-11.25/-5 = None\n",
      "-11.25/-4 = None\n",
      "-11.25/-3 = None\n",
      "-11.25/-2 = None\n",
      "-11.25/-1 = None\n",
      "-11.25/0 = None\n",
      "-11.25/1 = None\n",
      "-11.25/2 = None\n",
      "-11.25/3 = None\n",
      "-11.25/4 = None\n",
      "Test done.\n"
     ]
    }
   ],
   "source": [
    "# This is another test cases. Run this cell to check!\n",
    "\n",
    "for x in [11, 22.5, -44, 'Hello', -11.25]:\n",
    "    for y in range(-5, 5):\n",
    "        z = division(x, y)\n",
    "        print(f'{x}/{y} = {z}')        \n",
    "print('Test done.')"
   ]
  },
  {
   "cell_type": "markdown",
   "id": "f824df3b",
   "metadata": {},
   "source": [
    "---------"
   ]
  },
  {
   "cell_type": "markdown",
   "id": "94fe56dc",
   "metadata": {},
   "source": [
    "# 2\n",
    "\n",
    "Write the guessing number game! Here is the rule:\n",
    "- The player have to guess the correct number which is randomly chosen by the computer. \n",
    "- At the beginning, computer choose an integer number randomly between intergers `a` and `b`. This is the number that the player has to guess in this game.\n",
    "- The computer lets the player guesses until getting the correct number.\n",
    "\n",
    "In this game, you have to handle some stupid inputs like guessing too low (less than `a`) or too high (greater than `b`) numbers with raising an error then let the player plays continue to play game"
   ]
  },
  {
   "cell_type": "code",
   "execution_count": null,
   "id": "d05cdfdf",
   "metadata": {},
   "outputs": [],
   "source": [
    "import random\n",
    "\n",
    "min_number = 0\n",
    "max_number = 100\n",
    "\n",
    "the_correct_number = random.randint(min_number, max_number)\n",
    "\n",
    "game_run = True\n",
    "# print(the_correct_number) # uncomment this for cheating the game\n",
    "\n",
    "print('Welcome to the gussing game')\n",
    "while game_run:\n",
    "    x = int(input('Enter your guessing: '))\n",
    "    if x == the_correct_number:\n",
    "        print('Congratulations! Your guessing is correct')\n",
    "        game_run = False\n",
    "    else:\n",
    "        print(f'Try again, it is not {x}')\n",
    "\n",
    "print('Thanks for playing')"
   ]
  },
  {
   "cell_type": "markdown",
   "id": "7a5230a3",
   "metadata": {},
   "source": [
    "--------------------------------"
   ]
  },
  {
   "cell_type": "markdown",
   "id": "00427f1a",
   "metadata": {},
   "source": [
    "# 3\n",
    "\n",
    "Write a program that prompts the user for a number, and then calculates the square of that number. If the user enters a value that is not a number (such as a letter or symbol), the program should display an error message and prompt the user to enter a valid number again."
   ]
  },
  {
   "cell_type": "code",
   "execution_count": null,
   "id": "1a231681",
   "metadata": {
    "scrolled": true
   },
   "outputs": [],
   "source": [
    "# Fix this script\n",
    "\n",
    "num = float(input(\"Enter a number: \"))\n",
    "result = num ** 2\n",
    "print(f'The square of {num} is {result}')"
   ]
  },
  {
   "cell_type": "markdown",
   "id": "efc2a42d",
   "metadata": {},
   "source": [
    "---------------------"
   ]
  },
  {
   "cell_type": "markdown",
   "id": "f7323d03",
   "metadata": {},
   "source": [
    "# 4\n",
    "\n",
    "Create a program that reads a file and prints the contents of the file to the screen. If the file does not exist or if the file cannot be opened for reading, the program should display an appropriate error message and exit."
   ]
  },
  {
   "cell_type": "code",
   "execution_count": null,
   "id": "9bb6b788",
   "metadata": {
    "scrolled": true
   },
   "outputs": [],
   "source": [
    "# Fix this script\n",
    "\n",
    "with open(\"example.txt\", \"r\") as file:\n",
    "    for line in file:\n",
    "        print(line)"
   ]
  },
  {
   "cell_type": "markdown",
   "id": "64094b9e",
   "metadata": {},
   "source": [
    "-----------------"
   ]
  }
 ],
 "metadata": {
  "kernelspec": {
   "display_name": "Python 3 (ipykernel)",
   "language": "python",
   "name": "python3"
  },
  "language_info": {
   "codemirror_mode": {
    "name": "ipython",
    "version": 3
   },
   "file_extension": ".py",
   "mimetype": "text/x-python",
   "name": "python",
   "nbconvert_exporter": "python",
   "pygments_lexer": "ipython3",
   "version": "3.11.0"
  }
 },
 "nbformat": 4,
 "nbformat_minor": 5
}
