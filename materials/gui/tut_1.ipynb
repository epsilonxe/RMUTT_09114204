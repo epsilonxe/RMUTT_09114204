{
 "cells": [
  {
   "cell_type": "markdown",
   "id": "7fd37899",
   "metadata": {},
   "source": [
    "# Interactive Widgets in Jupyter Notebooks\n",
    "\n",
    "Python has a library called **ipywidgets** which can help you with that. It provides a list of widgets quite common in web apps and dashboards like dropdown, checkbox, radio buttons, buttons, and many more. It'll let you code in pure python and will generate UI with interactive widgets for you using javascript underneath. This way you won't need to learn javascript and continue to use python by just learning ipywidgets. You can even give presentations from the Jupyter notebook with interactive widgets enabled. Python has a framework named **voila** that lets us deploy Jupyter notebooks as web apps. So you can create your interactive dashboard in a notebook and deploy it using voila as well (one more reason to use ipywidgets)."
   ]
  },
  {
   "cell_type": "markdown",
   "id": "11270c70",
   "metadata": {},
   "source": [
    "# Getting Started with Widgets Creation \n",
    "Ipywidgets provides a list of functions that can let us create widgets UI for any of our existing functions. It'll create widgets by itself by looking at the parameters of functions and creating widgets UI with all parameters represented as one widget. It's a very good way to start using ipywidgets. We'll then learn in the future about customizing these widgets further.\n",
    "\n",
    "We'll start by importing necessary functions which will help us creates widgets UI."
   ]
  },
  {
   "cell_type": "code",
   "execution_count": 132,
   "id": "bedcbb17",
   "metadata": {},
   "outputs": [],
   "source": [
    "from ipywidgets import interact, interactive, fixed, interact_manual"
   ]
  },
  {
   "cell_type": "markdown",
   "id": "1869e8fd",
   "metadata": {},
   "source": [
    "## UI Consisting of Widgets Directly from Function using `interact()`\n",
    "We can pass any of our functions as input to `interact()` function and it'll create widgets UI by looking at the parameters of the function with proper widgets for each parameter. We'll start converting a few basic functions."
   ]
  },
  {
   "cell_type": "code",
   "execution_count": 133,
   "id": "3987d571",
   "metadata": {},
   "outputs": [],
   "source": [
    "def func1(x):\n",
    "    return 5*x"
   ]
  },
  {
   "cell_type": "code",
   "execution_count": 134,
   "id": "6c0af576",
   "metadata": {},
   "outputs": [
    {
     "data": {
      "application/vnd.jupyter.widget-view+json": {
       "model_id": "90b6dd0b700c4f9684d1df77e786363b",
       "version_major": 2,
       "version_minor": 0
      },
      "text/plain": [
       "interactive(children=(IntSlider(value=10, description='x', max=30, min=-10), Output()), _dom_classes=('widget-…"
      ]
     },
     "metadata": {},
     "output_type": "display_data"
    }
   ],
   "source": [
    "interact(func1, x=10);"
   ]
  },
  {
   "cell_type": "markdown",
   "id": "a0bcba12",
   "metadata": {},
   "source": [
    "We can see that interact() function detects from our value `x=10` that it should create a slider for this parameter. We can modify slider values and it'll recall function with new value and return new output."
   ]
  },
  {
   "cell_type": "code",
   "execution_count": 135,
   "id": "24b921df",
   "metadata": {},
   "outputs": [
    {
     "data": {
      "application/vnd.jupyter.widget-view+json": {
       "model_id": "b7e15ea388b545cb993213892396212d",
       "version_major": 2,
       "version_minor": 0
      },
      "text/plain": [
       "interactive(children=(FloatSlider(value=2.2, description='x', max=6.6000000000000005, min=-2.2), Output()), _d…"
      ]
     },
     "metadata": {},
     "output_type": "display_data"
    }
   ],
   "source": [
    "interact(func1, x=2.2);"
   ]
  },
  {
   "cell_type": "code",
   "execution_count": 136,
   "id": "7e662565",
   "metadata": {},
   "outputs": [
    {
     "data": {
      "application/vnd.jupyter.widget-view+json": {
       "model_id": "4eda967b503e42aba9df55f8e298c408",
       "version_major": 2,
       "version_minor": 0
      },
      "text/plain": [
       "interactive(children=(Checkbox(value=True, description='x'), Output()), _dom_classes=('widget-interact',))"
      ]
     },
     "metadata": {},
     "output_type": "display_data"
    }
   ],
   "source": [
    "interact(func1, x=True);"
   ]
  },
  {
   "cell_type": "code",
   "execution_count": 137,
   "id": "cb79d6a0",
   "metadata": {},
   "outputs": [
    {
     "data": {
      "application/vnd.jupyter.widget-view+json": {
       "model_id": "fe1da79681fa45cd977a6cbb4164e543",
       "version_major": 2,
       "version_minor": 0
      },
      "text/plain": [
       "interactive(children=(Text(value='Hello !!', description='x'), Output()), _dom_classes=('widget-interact',))"
      ]
     },
     "metadata": {},
     "output_type": "display_data"
    }
   ],
   "source": [
    "interact(func1, x=\"Hello !!\");"
   ]
  },
  {
   "cell_type": "markdown",
   "id": "f1efb1e1",
   "metadata": {},
   "source": [
    "We can see from the above examples that based on the type of argument value passed to a parameter, it'll create a widget that is best suitable to represent that type of argument values. It created slider for float & integer, a checkbox for boolean, text box for a string.\n",
    "\n",
    "We can even set `interact` as a decorator and it'll just work the same."
   ]
  },
  {
   "cell_type": "code",
   "execution_count": 138,
   "id": "8e0693f1",
   "metadata": {},
   "outputs": [
    {
     "data": {
      "application/vnd.jupyter.widget-view+json": {
       "model_id": "b9c5b1f1f3bf49839958ceb7ac951b38",
       "version_major": 2,
       "version_minor": 0
      },
      "text/plain": [
       "interactive(children=(IntSlider(value=10, description='x', max=30, min=-10), Output()), _dom_classes=('widget-…"
      ]
     },
     "metadata": {},
     "output_type": "display_data"
    }
   ],
   "source": [
    "@interact(x=10)\n",
    "def func1(x):\n",
    "    return 10 * x"
   ]
  },
  {
   "cell_type": "markdown",
   "id": "9b2cc27d",
   "metadata": {},
   "source": [
    "### `fixed()` to Prevent Widgets from Getting Created\n",
    "\n",
    "Sometimes we have functions with more than one parameter and we might want to explore just a few parameters fixing values of other parameters. We can do that using `fixed()` which will prevent `interact()` from creating a widget."
   ]
  },
  {
   "cell_type": "code",
   "execution_count": 139,
   "id": "ac194c93",
   "metadata": {},
   "outputs": [],
   "source": [
    "def func2(a,b,c):\n",
    "    return (a*b) + c"
   ]
  },
  {
   "cell_type": "code",
   "execution_count": 140,
   "id": "a2c4398d",
   "metadata": {},
   "outputs": [
    {
     "data": {
      "application/vnd.jupyter.widget-view+json": {
       "model_id": "19eedd58586a431fba86d78872694bf6",
       "version_major": 2,
       "version_minor": 0
      },
      "text/plain": [
       "interactive(children=(IntSlider(value=5, description='a', max=15, min=-5), IntSlider(value=5, description='b',…"
      ]
     },
     "metadata": {},
     "output_type": "display_data"
    }
   ],
   "source": [
    "interact(func2, a=5, b=5, c=fixed(10));"
   ]
  },
  {
   "cell_type": "markdown",
   "id": "14da151f",
   "metadata": {},
   "source": [
    "We can see that the slider is only produced for parameters `a` and `b` only.\n",
    "\n",
    "When we pass an integer value to a widget, it creates an integer slider in `range(-value, +value *3)` with a step value of `1`. We can pass more than one value to a parameter in an interactive method to generate a widget according to our min, max values."
   ]
  },
  {
   "cell_type": "code",
   "execution_count": 141,
   "id": "3b696a9a",
   "metadata": {},
   "outputs": [
    {
     "data": {
      "application/vnd.jupyter.widget-view+json": {
       "model_id": "6710d91eb2324e1bb539602a0171129c",
       "version_major": 2,
       "version_minor": 0
      },
      "text/plain": [
       "interactive(children=(IntSlider(value=3, description='x', max=5, min=1), Output()), _dom_classes=('widget-inte…"
      ]
     },
     "metadata": {},
     "output_type": "display_data"
    }
   ],
   "source": [
    "interact(func1, x=(1,5));"
   ]
  },
  {
   "cell_type": "code",
   "execution_count": 142,
   "id": "2654ab0e",
   "metadata": {},
   "outputs": [
    {
     "data": {
      "application/vnd.jupyter.widget-view+json": {
       "model_id": "da313f0f54e14f78a01bbfe2eeb66e44",
       "version_major": 2,
       "version_minor": 0
      },
      "text/plain": [
       "interactive(children=(FloatSlider(value=3.0, description='x', max=5.0, min=1.0, step=0.5), Output()), _dom_cla…"
      ]
     },
     "metadata": {},
     "output_type": "display_data"
    }
   ],
   "source": [
    "interact(func1, x=(1,5, 0.5));"
   ]
  },
  {
   "cell_type": "markdown",
   "id": "7972adcb",
   "metadata": {},
   "source": [
    "### Table of Function Parameters Mapping to Widgets\n",
    "\n",
    "The below table gives an overview of different widget abbreviations (What kind of widget will be created based on default values?):\n",
    "\n",
    "| Keyword argument |\tWidget |\n",
    "|:------------------|:-----------|\n",
    "| `True` or `False` |\tCheckbox   |\n",
    "| `'Hi there'`\t|  Text    |\n",
    "| `value` or `(min,max)` or `(min,max,step)` if integers are passed |\t`IntSlider` |\n",
    "| `value` or `(min,max)` or `(min,max,step)` if floats are passed |\t`FloatSlider` |\n",
    "| `['good','bad']` or `[('one', 1), ('two', 2)]` |\tDropdown |\n"
   ]
  },
  {
   "cell_type": "code",
   "execution_count": 143,
   "id": "cf98d881",
   "metadata": {},
   "outputs": [
    {
     "data": {
      "application/vnd.jupyter.widget-view+json": {
       "model_id": "a8582804dfa14c129d965c5d129c65ec",
       "version_major": 2,
       "version_minor": 0
      },
      "text/plain": [
       "interactive(children=(Dropdown(description='x', options=('good ', 'bad '), value='good '), Output()), _dom_cla…"
      ]
     },
     "metadata": {},
     "output_type": "display_data"
    }
   ],
   "source": [
    "interact(func1, x=['good ','bad ']);"
   ]
  },
  {
   "cell_type": "code",
   "execution_count": 144,
   "id": "434cce1a",
   "metadata": {},
   "outputs": [
    {
     "data": {
      "application/vnd.jupyter.widget-view+json": {
       "model_id": "a5ab2413a25f4e2090ee1446b05a9b93",
       "version_major": 2,
       "version_minor": 0
      },
      "text/plain": [
       "interactive(children=(Dropdown(description='x', options=(('first', 100), ('second', 200)), value=100), Output(…"
      ]
     },
     "metadata": {},
     "output_type": "display_data"
    }
   ],
   "source": [
    "interact(func1, x=[('first', 100), ('second', 200)]);"
   ]
  },
  {
   "cell_type": "markdown",
   "id": "08a790da",
   "metadata": {},
   "source": [
    "## Creating Widget using Objects\n",
    "\n",
    "We can also create widget objects and pass them as a parameter to `interact()` function according to our needs. It'll prevent interact from taking decisions by itself and create an object which we might not need exactly. Let's start by creating a few widget objects.\n",
    "\n",
    "The `ipywidgets` has list of objects for creating widgets like `IntSlider`, `FloatSlider`, `Dropdown`, `Text`, `Checkbox`, etc. We can pass description parameter with each widget as it'll create a label next to the widget. We can even pass LateX as a string to the description parameter and it'll create a formula as well.\n",
    "\n",
    "Check this link for a complete list of widgets available from [ipywidgets](https://ipywidgets.readthedocs.io/en/stable/examples/Widget%20List.html)."
   ]
  },
  {
   "cell_type": "code",
   "execution_count": 145,
   "id": "0e24c7e7",
   "metadata": {},
   "outputs": [],
   "source": [
    "import ipywidgets as widgets"
   ]
  },
  {
   "cell_type": "markdown",
   "id": "bea829bd",
   "metadata": {},
   "source": [
    "### Integer Slider"
   ]
  },
  {
   "cell_type": "code",
   "execution_count": 146,
   "id": "a673ca91",
   "metadata": {},
   "outputs": [
    {
     "data": {
      "application/vnd.jupyter.widget-view+json": {
       "model_id": "9415f38330c74d7cb69d4a678ef59c84",
       "version_major": 2,
       "version_minor": 0
      },
      "text/plain": [
       "IntSlider(value=25, description='Integer Slider', max=50, min=10, step=2)"
      ]
     },
     "execution_count": 146,
     "metadata": {},
     "output_type": "execute_result"
    }
   ],
   "source": [
    "int_slider = widgets.IntSlider(min=10, max=50, value=25, step=2, description=\"Integer Slider\")\n",
    "int_slider"
   ]
  },
  {
   "cell_type": "markdown",
   "id": "ada35d7c",
   "metadata": {},
   "source": [
    "### Float Slider"
   ]
  },
  {
   "cell_type": "code",
   "execution_count": 147,
   "id": "13832c6c",
   "metadata": {},
   "outputs": [
    {
     "data": {
      "application/vnd.jupyter.widget-view+json": {
       "model_id": "3850a7c396214b9782455fc431f1c682",
       "version_major": 2,
       "version_minor": 0
      },
      "text/plain": [
       "FloatSlider(value=25.0, description='Float Slider', max=50.0, min=10.0, step=1.0)"
      ]
     },
     "execution_count": 147,
     "metadata": {},
     "output_type": "execute_result"
    }
   ],
   "source": [
    "float_slider = widgets.FloatSlider(min=10.0, max=50.0, value=25.0, step=1.0, description=\"Float Slider\")\n",
    "float_slider"
   ]
  },
  {
   "cell_type": "markdown",
   "id": "f041f7a3",
   "metadata": {},
   "source": [
    "Each widget has a list of a parameter which can be accessed by following dot notation on it."
   ]
  },
  {
   "cell_type": "code",
   "execution_count": 148,
   "id": "d62ecb98",
   "metadata": {},
   "outputs": [
    {
     "data": {
      "text/plain": [
       "25.0"
      ]
     },
     "execution_count": 148,
     "metadata": {},
     "output_type": "execute_result"
    }
   ],
   "source": [
    "float_slider.value"
   ]
  },
  {
   "cell_type": "code",
   "execution_count": 149,
   "id": "d3311234",
   "metadata": {},
   "outputs": [],
   "source": [
    "float_slider.value = 28"
   ]
  },
  {
   "cell_type": "markdown",
   "id": "4a32527c",
   "metadata": {},
   "source": [
    "We can access all available attributes of a widget by calling `keys()` method on it."
   ]
  },
  {
   "cell_type": "code",
   "execution_count": 150,
   "id": "4eae2c62",
   "metadata": {},
   "outputs": [
    {
     "name": "stdout",
     "output_type": "stream",
     "text": [
      "['_dom_classes', '_model_module', '_model_module_version', '_model_name', '_view_count', '_view_module', '_view_module_version', '_view_name', 'behavior', 'continuous_update', 'description', 'description_allow_html', 'disabled', 'layout', 'max', 'min', 'orientation', 'readout', 'readout_format', 'step', 'style', 'tabbable', 'tooltip', 'value']\n"
     ]
    }
   ],
   "source": [
    "print(float_slider.keys)"
   ]
  },
  {
   "cell_type": "markdown",
   "id": "448f0806",
   "metadata": {},
   "source": [
    "### Checkbox"
   ]
  },
  {
   "cell_type": "code",
   "execution_count": 151,
   "id": "6ee0793c",
   "metadata": {},
   "outputs": [
    {
     "data": {
      "application/vnd.jupyter.widget-view+json": {
       "model_id": "0f1e6406cc54480db5a513614f19de3c",
       "version_major": 2,
       "version_minor": 0
      },
      "text/plain": [
       "Checkbox(value=True, description='Check')"
      ]
     },
     "execution_count": 151,
     "metadata": {},
     "output_type": "execute_result"
    }
   ],
   "source": [
    "widgets.Checkbox(value=True, description=\"Check\")"
   ]
  },
  {
   "cell_type": "markdown",
   "id": "aa784933",
   "metadata": {},
   "source": [
    "### Dropdown"
   ]
  },
  {
   "cell_type": "code",
   "execution_count": 152,
   "id": "87f99697",
   "metadata": {},
   "outputs": [
    {
     "data": {
      "application/vnd.jupyter.widget-view+json": {
       "model_id": "32f5363ad04b4e6a83f773054a3654fe",
       "version_major": 2,
       "version_minor": 0
      },
      "text/plain": [
       "Dropdown(description='Select Right Option', options=('A', 'B', 'C', 'D'), value='A')"
      ]
     },
     "execution_count": 152,
     "metadata": {},
     "output_type": "execute_result"
    }
   ],
   "source": [
    "widgets.Dropdown(options=[\"A\",\"B\",\"C\",\"D\"], description=\"Select Right Option\")"
   ]
  },
  {
   "cell_type": "markdown",
   "id": "1fe9b7cc",
   "metadata": {},
   "source": [
    "### Text Area"
   ]
  },
  {
   "cell_type": "code",
   "execution_count": 153,
   "id": "0cb100f5",
   "metadata": {},
   "outputs": [
    {
     "data": {
      "application/vnd.jupyter.widget-view+json": {
       "model_id": "b77d9a252d754cd3b0b534c344cad09e",
       "version_major": 2,
       "version_minor": 0
      },
      "text/plain": [
       "Textarea(value='Please enter text here..')"
      ]
     },
     "execution_count": 153,
     "metadata": {},
     "output_type": "execute_result"
    }
   ],
   "source": [
    "widgets.Textarea(value=\"Please enter text here..\")"
   ]
  },
  {
   "cell_type": "markdown",
   "id": "482e726f",
   "metadata": {},
   "source": [
    "We can pass the above-created widgets as a parameter value to `interact()` and it'll use those widgets instead of creating widgets by itself. We can prevent the default behavior of `interact()` function this way and force it to use our designed widgets according to our needs."
   ]
  },
  {
   "cell_type": "code",
   "execution_count": 154,
   "id": "3633bad8",
   "metadata": {},
   "outputs": [
    {
     "data": {
      "application/vnd.jupyter.widget-view+json": {
       "model_id": "139234a26d89493ebbaa4ee46a929afc",
       "version_major": 2,
       "version_minor": 0
      },
      "text/plain": [
       "interactive(children=(IntSlider(value=25, description='Integer Slider', max=50, min=10, step=2), Output()), _d…"
      ]
     },
     "metadata": {},
     "output_type": "display_data"
    }
   ],
   "source": [
    "interact(func1, x=widgets.IntSlider(min=10, max=50, value=25, step=2, description=\"Integer Slider\"));"
   ]
  },
  {
   "cell_type": "code",
   "execution_count": 155,
   "id": "1362b39d",
   "metadata": {},
   "outputs": [
    {
     "data": {
      "application/vnd.jupyter.widget-view+json": {
       "model_id": "bc6b23eae64b446a9f284b4e1e070aa8",
       "version_major": 2,
       "version_minor": 0
      },
      "text/plain": [
       "interactive(children=(FloatSlider(value=25.0, description='Float Slider', max=50.0, min=10.0, step=2.5), Outpu…"
      ]
     },
     "metadata": {},
     "output_type": "display_data"
    }
   ],
   "source": [
    "interact(func1, x=widgets.FloatSlider(min=10.0, max=50.0, value=25.0, step=2.5, description=\"Float Slider\"));"
   ]
  },
  {
   "cell_type": "markdown",
   "id": "4e649a29",
   "metadata": {},
   "source": [
    "## Widgets using `interactive()`\n",
    "\n",
    "The ipywidgets provides another function called `interactive()` to create the UI of widgets by passing a function to it. Unlike `interact()` function, `interactive()` returns objects which does not displays widgets automatically. We need to use IPython function `display()` to display widgets UI as well as the output of a function.\n",
    "\n",
    "Apart from widgets, IPython lets us display contents of different types like audio, video, HTML, image, text, latex, etc in the Jupyter notebook. Do check the [link](https://coderzcolumn.com/tutorials/python/how-to-display-contents-of-different-types-in-jupyter-notebook-lab) to explore it."
   ]
  },
  {
   "cell_type": "code",
   "execution_count": 156,
   "id": "856cdbaa",
   "metadata": {},
   "outputs": [
    {
     "data": {
      "application/vnd.jupyter.widget-view+json": {
       "model_id": "3c3e43b5f8ea459f97723e12487cb375",
       "version_major": 2,
       "version_minor": 0
      },
      "text/plain": [
       "interactive(children=(IntSlider(value=25, description='a', max=50, min=10, step=2), IntSlider(value=25, descri…"
      ]
     },
     "metadata": {},
     "output_type": "display_data"
    }
   ],
   "source": [
    "from IPython.display import display\n",
    "\n",
    "def func3(a,b,c):\n",
    "    display((a+b)^c)\n",
    "\n",
    "w = interactive(func3,  a=widgets.IntSlider(min=10, max=50, value=25, step=2),\n",
    "                        b=widgets.IntSlider(min=10, max=50, value=25, step=2),\n",
    "                        c=widgets.IntSlider(min=10, max=50, value=25, step=2),\n",
    "                       )\n",
    "display(w)"
   ]
  },
  {
   "cell_type": "code",
   "execution_count": 157,
   "id": "d94eb2fb",
   "metadata": {},
   "outputs": [
    {
     "name": "stdout",
     "output_type": "stream",
     "text": [
      "<class 'ipywidgets.widgets.interaction.interactive'>\n"
     ]
    }
   ],
   "source": [
    "print(type(w))"
   ]
  },
  {
   "cell_type": "markdown",
   "id": "21850c70",
   "metadata": {},
   "source": [
    "The **interactive** object is of type **VBox** which is a container object of ipywidgets. VBox can layout various widgets according to vertical layout. We can access its children as well as arguments."
   ]
  },
  {
   "cell_type": "code",
   "execution_count": 158,
   "id": "d7b09d0f",
   "metadata": {},
   "outputs": [
    {
     "data": {
      "text/plain": [
       "(IntSlider(value=25, description='a', max=50, min=10, step=2),\n",
       " IntSlider(value=25, description='b', max=50, min=10, step=2),\n",
       " IntSlider(value=25, description='c', max=50, min=10, step=2),\n",
       " Output())"
      ]
     },
     "execution_count": 158,
     "metadata": {},
     "output_type": "execute_result"
    }
   ],
   "source": [
    "w.children"
   ]
  },
  {
   "cell_type": "code",
   "execution_count": 159,
   "id": "197d1731",
   "metadata": {},
   "outputs": [
    {
     "data": {
      "text/plain": [
       "{'a': 25, 'b': 25, 'c': 25}"
      ]
     },
     "execution_count": 159,
     "metadata": {},
     "output_type": "execute_result"
    }
   ],
   "source": [
    "w.kwargs"
   ]
  },
  {
   "cell_type": "markdown",
   "id": "142ddbfd",
   "metadata": {},
   "source": [
    "We'll below create a simple example that uses **numpy** and **matplotlib** plot according to the values of widgets. We'll be plotting a simple line with the equation $$y=mx + c.$$ Our method will have parameters and `c` while `x` will be random numbers array."
   ]
  },
  {
   "cell_type": "code",
   "execution_count": 160,
   "id": "25adfa19",
   "metadata": {},
   "outputs": [],
   "source": [
    "import matplotlib.pyplot as plt\n",
    "import numpy as np\n",
    "\n",
    "def plot(m,c):\n",
    "    x = np.array([0.0, 0.1, 0.2, 0.3, 0.4, 0.5, 0.6, 0.7, 0.8, 0.9, 1.0])\n",
    "    y = m*x + c\n",
    "    plt.plot(x, y)\n",
    "    plt.show()"
   ]
  },
  {
   "cell_type": "code",
   "execution_count": 161,
   "id": "c9162d4d",
   "metadata": {},
   "outputs": [
    {
     "data": {
      "application/vnd.jupyter.widget-view+json": {
       "model_id": "1ccc2b2e961844d5811264b9afc526e4",
       "version_major": 2,
       "version_minor": 0
      },
      "text/plain": [
       "interactive(children=(FloatSlider(value=0.0, description='m', max=10.0, min=-10.0, step=0.5), FloatSlider(valu…"
      ]
     },
     "execution_count": 161,
     "metadata": {},
     "output_type": "execute_result"
    }
   ],
   "source": [
    "interactive(plot, m=(-10, 10, 0.5), c=(-5, 5, 0.5))"
   ]
  },
  {
   "cell_type": "markdown",
   "id": "cf0c94cf",
   "metadata": {},
   "source": [
    "--------\n",
    "# Organizing Layout with `interactive_output()`\n",
    "\n",
    "The `interactive_output()` function lets us layout widgets according to our need. The `interactive_output()` does not generate output UI but it lets us create UI, organize them in a box and pass them to it. This gives us more control over the layout of widgets."
   ]
  },
  {
   "cell_type": "code",
   "execution_count": 162,
   "id": "800af494",
   "metadata": {},
   "outputs": [
    {
     "data": {
      "application/vnd.jupyter.widget-view+json": {
       "model_id": "f865efdb304c407caf39f556f8d98be0",
       "version_major": 2,
       "version_minor": 0
      },
      "text/plain": [
       "Output()"
      ]
     },
     "metadata": {},
     "output_type": "display_data"
    },
    {
     "data": {
      "application/vnd.jupyter.widget-view+json": {
       "model_id": "8303d82e01fe41d0932455b68294423e",
       "version_major": 2,
       "version_minor": 0
      },
      "text/plain": [
       "HBox(children=(FloatSlider(value=0.0, description='Slope', max=5.0, min=-5.0, step=0.5), FloatSlider(value=0.0…"
      ]
     },
     "metadata": {},
     "output_type": "display_data"
    }
   ],
   "source": [
    "m = widgets.FloatSlider(min=-5,max=5,step=0.5, description=\"Slope\")\n",
    "c = widgets.FloatSlider(min=-5,max=5,step=0.5, description=\"Intercept\")\n",
    "\n",
    "# An HBox lays out its children horizontally\n",
    "ui = widgets.HBox([m, c])\n",
    "\n",
    "def plot(m, c):\n",
    "    x = np.random.rand(10)\n",
    "    y = m *x + c\n",
    "    plt.plot(x,y)\n",
    "    plt.show()\n",
    "\n",
    "out = widgets.interactive_output(plot, {'m': m, 'c': c})\n",
    "\n",
    "display(out, ui)"
   ]
  },
  {
   "cell_type": "markdown",
   "id": "e92d307c",
   "metadata": {},
   "source": [
    ">Please make a not above that UI generated by `interact()`, `interactive()`, `interactive_output()` immediately calls function and updates UI with new output after widget value is changed. This might not be ideal choice as sometimes function can be taking time to calculate its output which might hang UI in case of frequent widget value change."
   ]
  },
  {
   "cell_type": "markdown",
   "id": "891bce1d",
   "metadata": {},
   "source": [
    "# Preventing Fluctuations using `interact_manual()` and `continuous_update`\n",
    "\n",
    "We can use a function like `interact_manual()` for preventing UI updates after widget values are changed. The `interact_manual()` function provides us with button pressing which will run a function after the widget value changes with this new value. This will prevent UI from immediately updating and creating fluctuations."
   ]
  },
  {
   "cell_type": "code",
   "execution_count": 163,
   "id": "00109cb7",
   "metadata": {},
   "outputs": [
    {
     "data": {
      "application/vnd.jupyter.widget-view+json": {
       "model_id": "94290635602f40f1a27f4c5ea19f6a29",
       "version_major": 2,
       "version_minor": 0
      },
      "text/plain": [
       "interactive(children=(FloatSlider(value=100.0, description='i', max=10000.0, min=100.0, step=100.0), Button(de…"
      ]
     },
     "metadata": {},
     "output_type": "display_data"
    }
   ],
   "source": [
    "from time import sleep\n",
    "\n",
    "def cpu_intensive_func(i):\n",
    "    print('Sleeping...')\n",
    "    sleep(1)\n",
    "    print(i)\n",
    "\n",
    "interact_manual(cpu_intensive_func,i=widgets.FloatSlider(min=100, max=10000, step=100));"
   ]
  },
  {
   "cell_type": "markdown",
   "id": "8f5e7958",
   "metadata": {},
   "source": [
    "Another way to delay the update of UI after a change in widget value is by setting the `continuous_update` parameter to `False`. This will prevent a call to function as long as widget value is changing. Once a person leaves the mouse button, it'll then call a function to update UI with a new widget value."
   ]
  },
  {
   "cell_type": "code",
   "execution_count": 164,
   "id": "39ac3d31",
   "metadata": {},
   "outputs": [
    {
     "data": {
      "application/vnd.jupyter.widget-view+json": {
       "model_id": "0a841866690e461e9bb455b41dc9a632",
       "version_major": 2,
       "version_minor": 0
      },
      "text/plain": [
       "interactive(children=(IntSlider(value=100, continuous_update=False, description='i', max=10000, min=100, step=…"
      ]
     },
     "metadata": {},
     "output_type": "display_data"
    }
   ],
   "source": [
    "interact(cpu_intensive_func,i=widgets.IntSlider(min=100, max=10000, step=100, continuous_update=False));"
   ]
  },
  {
   "cell_type": "markdown",
   "id": "6144a80d",
   "metadata": {},
   "source": [
    "# Output Widget to Direct Results\n",
    "\n",
    "The **Output** widget can capture *stdout*, *stderr*, and *output* generated by widgets UI as well. We can use the **Output** widget with `with` statement as well to direct output to it."
   ]
  },
  {
   "cell_type": "code",
   "execution_count": 165,
   "id": "22d3e474",
   "metadata": {},
   "outputs": [
    {
     "data": {
      "application/vnd.jupyter.widget-view+json": {
       "model_id": "cac8a2fb3e0f4adcb6f53895768cf9d3",
       "version_major": 2,
       "version_minor": 0
      },
      "text/plain": [
       "Output(layout=Layout(border_bottom='1px solid green', border_left='1px solid green', border_right='1px solid g…"
      ]
     },
     "execution_count": 165,
     "metadata": {},
     "output_type": "execute_result"
    }
   ],
   "source": [
    "out = widgets.Output(layout={\"border\":\"1px solid green\"})\n",
    "out"
   ]
  },
  {
   "cell_type": "code",
   "execution_count": 166,
   "id": "45e5be4e",
   "metadata": {},
   "outputs": [
    {
     "data": {
      "application/vnd.jupyter.widget-view+json": {
       "model_id": "cac8a2fb3e0f4adcb6f53895768cf9d3",
       "version_major": 2,
       "version_minor": 0
      },
      "text/plain": [
       "Output(layout=Layout(border_bottom='1px solid green', border_left='1px solid green', border_right='1px solid g…"
      ]
     },
     "execution_count": 166,
     "metadata": {},
     "output_type": "execute_result"
    }
   ],
   "source": [
    "with out:\n",
    "    display(widgets.IntSlider())\n",
    "\n",
    "out"
   ]
  },
  {
   "cell_type": "code",
   "execution_count": 167,
   "id": "0801185c",
   "metadata": {},
   "outputs": [],
   "source": [
    "out2 = widgets.Output(layout={\"border\":\"1px solid black\"})\n",
    "\n",
    "with out2:\n",
    "    print(\"Testing String Output\")"
   ]
  },
  {
   "cell_type": "markdown",
   "id": "90cc2560",
   "metadata": {},
   "source": [
    "Output of function can also be directed to Output widget using Output widgets as decorator."
   ]
  },
  {
   "cell_type": "code",
   "execution_count": 168,
   "id": "9466c815",
   "metadata": {},
   "outputs": [],
   "source": [
    "out3 = widgets.Output(layout={\"border\":\"1px solid red\"})\n",
    "\n",
    "@out3.capture()\n",
    "def func1():\n",
    "    print(\"Prints Inside Function\")\n",
    "\n",
    "func1()"
   ]
  },
  {
   "cell_type": "markdown",
   "id": "a73131d5",
   "metadata": {},
   "source": [
    "We can also clear output widgets using `clear_output()` function on widget."
   ]
  },
  {
   "cell_type": "code",
   "execution_count": 169,
   "id": "230694db",
   "metadata": {},
   "outputs": [],
   "source": [
    "out3.clear_output()"
   ]
  },
  {
   "cell_type": "markdown",
   "id": "df86989d",
   "metadata": {},
   "source": [
    "The `interactive_output()` function also generates output widgets as a result. We can also organize layout by connecting output with widgets."
   ]
  },
  {
   "cell_type": "code",
   "execution_count": 170,
   "id": "54594a8b",
   "metadata": {},
   "outputs": [
    {
     "data": {
      "application/vnd.jupyter.widget-view+json": {
       "model_id": "7e9d327ec1a6481a8d5aa90ebcfa1fe9",
       "version_major": 2,
       "version_minor": 0
      },
      "text/plain": [
       "VBox(children=(IntSlider(value=0, description='a'), Output(layout=Layout(border_bottom='1px solid red', border…"
      ]
     },
     "execution_count": 170,
     "metadata": {},
     "output_type": "execute_result"
    }
   ],
   "source": [
    "a = widgets.IntSlider(description='a')\n",
    "\n",
    "def f(a):\n",
    "    print(\"Square of a : %f is %f\"%(a, a*a))\n",
    "\n",
    "out = widgets.interactive_output(f, {'a': a})\n",
    "out.layout = {\"border\":\"1px solid red\"}\n",
    "\n",
    "widgets.VBox([a, out])"
   ]
  },
  {
   "cell_type": "markdown",
   "id": "b7deeae6",
   "metadata": {},
   "source": [
    "# Linking Widgets\n",
    "\n",
    "We can link more widgets as well using the linking functionality of ipywidgets so that if the value of one of the widget changes then another one also changes and synchronize with it.\n",
    "\n",
    "The ipywidgets let us link objects in 2 ways:\n",
    "\n",
    "- **Python Linking**: `link()` and `dlink()` links widgets using jupyter python kernel\n",
    "- **Javascript Linking**: `jslink()` and `jsdlink()` links widgets only using javascript and not jupyter kernel involvement."
   ]
  },
  {
   "cell_type": "code",
   "execution_count": 171,
   "id": "061cb651",
   "metadata": {},
   "outputs": [
    {
     "data": {
      "application/vnd.jupyter.widget-view+json": {
       "model_id": "3fcb9e26a9a742e298f60ce6bab29bd2",
       "version_major": 2,
       "version_minor": 0
      },
      "text/plain": [
       "IntText(value=0)"
      ]
     },
     "metadata": {},
     "output_type": "display_data"
    },
    {
     "data": {
      "application/vnd.jupyter.widget-view+json": {
       "model_id": "c62e1aa77f96433188acf08a448ba43b",
       "version_major": 2,
       "version_minor": 0
      },
      "text/plain": [
       "IntSlider(value=0)"
      ]
     },
     "metadata": {},
     "output_type": "display_data"
    }
   ],
   "source": [
    "x = widgets.IntText()\n",
    "y = widgets.IntSlider()\n",
    "\n",
    "display(x,y)\n",
    "\n",
    "two_way_link_python = widgets.link((x, 'value'), (y, 'value'))"
   ]
  },
  {
   "cell_type": "markdown",
   "id": "d79d669e",
   "metadata": {},
   "source": [
    "The above link created between `x` and `y` is two ways which means that changes in the value of `x` will change the value of `y` and vice versa. Please note that we are linking the value property of both objects.\n",
    "\n",
    "Below we have created a link using only javascript. It'll not require jupyter kernel running to work whereas the above example based on python linking will require jupyter kernel running to see changes."
   ]
  },
  {
   "cell_type": "code",
   "execution_count": 172,
   "id": "ff22ed78",
   "metadata": {},
   "outputs": [
    {
     "data": {
      "application/vnd.jupyter.widget-view+json": {
       "model_id": "8a876e3ff7b344f6a13b1472e2589637",
       "version_major": 2,
       "version_minor": 0
      },
      "text/plain": [
       "IntText(value=0)"
      ]
     },
     "metadata": {},
     "output_type": "display_data"
    },
    {
     "data": {
      "application/vnd.jupyter.widget-view+json": {
       "model_id": "399bbeb32a5d4129b6605f23c05aa89b",
       "version_major": 2,
       "version_minor": 0
      },
      "text/plain": [
       "IntSlider(value=0)"
      ]
     },
     "metadata": {},
     "output_type": "display_data"
    }
   ],
   "source": [
    "x = widgets.IntText()\n",
    "y = widgets.IntSlider()\n",
    "\n",
    "display(x,y)\n",
    "\n",
    "two_way_link_javascript = widgets.jslink((x, 'value'), (y, 'value'))"
   ]
  },
  {
   "cell_type": "markdown",
   "id": "571c23b9",
   "metadata": {},
   "source": [
    "Above both links are two ways. If you want to create only a one-way link than you can do it using `dlink()` and `jsdlink()`."
   ]
  },
  {
   "cell_type": "code",
   "execution_count": 173,
   "id": "6fb609fb",
   "metadata": {},
   "outputs": [
    {
     "data": {
      "application/vnd.jupyter.widget-view+json": {
       "model_id": "374eaf7fe87240e8908535f61acb8fe3",
       "version_major": 2,
       "version_minor": 0
      },
      "text/plain": [
       "IntText(value=0)"
      ]
     },
     "metadata": {},
     "output_type": "display_data"
    },
    {
     "data": {
      "application/vnd.jupyter.widget-view+json": {
       "model_id": "6539e78dc9bc49098b936968204752f5",
       "version_major": 2,
       "version_minor": 0
      },
      "text/plain": [
       "IntSlider(value=0)"
      ]
     },
     "metadata": {},
     "output_type": "display_data"
    }
   ],
   "source": [
    "x = widgets.IntText()\n",
    "y = widgets.IntSlider()\n",
    "\n",
    "display(x,y)\n",
    "\n",
    "one_way_link_python = widgets.dlink((x, 'value'), (y, 'value'))"
   ]
  },
  {
   "cell_type": "code",
   "execution_count": 174,
   "id": "16e8b210",
   "metadata": {},
   "outputs": [
    {
     "data": {
      "application/vnd.jupyter.widget-view+json": {
       "model_id": "e674b52ba9f3401bbc559c2f100e4d12",
       "version_major": 2,
       "version_minor": 0
      },
      "text/plain": [
       "IntText(value=0)"
      ]
     },
     "metadata": {},
     "output_type": "display_data"
    },
    {
     "data": {
      "application/vnd.jupyter.widget-view+json": {
       "model_id": "681e42fab66049cd8c1bfb94b3d8a690",
       "version_major": 2,
       "version_minor": 0
      },
      "text/plain": [
       "IntSlider(value=0)"
      ]
     },
     "metadata": {},
     "output_type": "display_data"
    }
   ],
   "source": [
    "x = widgets.IntText()\n",
    "y = widgets.IntSlider()\n",
    "\n",
    "display(x,y)\n",
    "\n",
    "one_way_link_javascript = widgets.jsdlink((x, 'value'), (y, 'value'))"
   ]
  },
  {
   "cell_type": "markdown",
   "id": "ffd63217",
   "metadata": {},
   "source": [
    "Above created both links are one direction from `x` to `y` only. It means that if we change the value of `x` then the value of `y` will change but value change in `y` will not reflect a change in `x` because it's one-way links.\n",
    "\n",
    "We can unlink widgets as well if linking is not needed anymore. we can do it by calling `unlink()` method on the link object."
   ]
  },
  {
   "cell_type": "code",
   "execution_count": 175,
   "id": "431db647",
   "metadata": {},
   "outputs": [],
   "source": [
    "two_way_link_javascript.unlink()\n",
    "two_way_link_python.unlink()\n",
    "one_way_link_python.unlink()\n",
    "one_way_link_javascript.unlink()"
   ]
  },
  {
   "cell_type": "markdown",
   "id": "fed4e484",
   "metadata": {},
   "source": [
    "# Widget Events\n",
    "\n",
    "The ipywidgets also lets us execute callback functions based on events. Events can be considered as clicking Button, changing slider values, changing text area value, etc. we might want to execute a particular process when any kind of event is performed. The ipywidgets provide such functionality by calling `observe()` method and passing it the function which you want to execute as a callback event. we'll explain events with a few examples below. A button allows us to execute the same functionality by passing the method to its `on_click()` method.\n",
    "\n",
    "The ipywidgets uses a Python library named [traitlets](https://github.com/ipython/traitlets) that let us handle these events."
   ]
  },
  {
   "cell_type": "code",
   "execution_count": 176,
   "id": "3e307f95",
   "metadata": {},
   "outputs": [
    {
     "data": {
      "application/vnd.jupyter.widget-view+json": {
       "model_id": "bb9f2f26ff9b4c60b5a9ca6f414d1021",
       "version_major": 2,
       "version_minor": 0
      },
      "text/plain": [
       "Button(description='Click Me!', style=ButtonStyle())"
      ]
     },
     "metadata": {},
     "output_type": "display_data"
    },
    {
     "data": {
      "application/vnd.jupyter.widget-view+json": {
       "model_id": "dbcc08b00b884c38925ae5866e0b24ae",
       "version_major": 2,
       "version_minor": 0
      },
      "text/plain": [
       "Output()"
      ]
     },
     "metadata": {},
     "output_type": "display_data"
    }
   ],
   "source": [
    "button = widgets.Button(description=\"Click Me!\")\n",
    "output = widgets.Output()\n",
    "\n",
    "display(button, output)\n",
    "\n",
    "@output.capture()\n",
    "def on_button_clicked(b):\n",
    "    print(type(b))\n",
    "    print(\"Button clicked.\")\n",
    "    b.icon=\"warning\"\n",
    "\n",
    "button.on_click(on_button_clicked)"
   ]
  },
  {
   "cell_type": "code",
   "execution_count": 177,
   "id": "44a57a42",
   "metadata": {},
   "outputs": [
    {
     "data": {
      "application/vnd.jupyter.widget-view+json": {
       "model_id": "4f93ae6c9a464b23814dd7403ce82045",
       "version_major": 2,
       "version_minor": 0
      },
      "text/plain": [
       "Label(value='Text Captured : ')"
      ]
     },
     "metadata": {},
     "output_type": "display_data"
    },
    {
     "data": {
      "application/vnd.jupyter.widget-view+json": {
       "model_id": "fdbb5a9759834cf7b81cdd8646076fa0",
       "version_major": 2,
       "version_minor": 0
      },
      "text/plain": [
       "Text(value='', description='Text')"
      ]
     },
     "metadata": {},
     "output_type": "display_data"
    }
   ],
   "source": [
    "label = widgets.Label(value='Text Captured : ')\n",
    "text = widgets.Text(description=\"Text\")\n",
    "\n",
    "def text_change(change):\n",
    "    print(change)\n",
    "    label.value = \"Text Captured : \"+change[\"new\"]\n",
    "\n",
    "text.observe(text_change, names='value')\n",
    "\n",
    "display(label, text)"
   ]
  },
  {
   "cell_type": "markdown",
   "id": "09e01331",
   "metadata": {},
   "source": [
    "We are passing method named `text_change` to `observe()` method of text widget so that any change in text value calls `text_change()` method. We are also passing `names=value` which will inform `observe()` that we need to capture changes in **value** property of Text widget. We are also printing what observe is passing to method when values in text widget changes. Please take a look that it passes the old and new value of widget as state capture for that change."
   ]
  },
  {
   "cell_type": "code",
   "execution_count": 178,
   "id": "e769e60c",
   "metadata": {},
   "outputs": [
    {
     "data": {
      "application/vnd.jupyter.widget-view+json": {
       "model_id": "d7ee0404ad9045c28c7eee54b1164def",
       "version_major": 2,
       "version_minor": 0
      },
      "text/plain": [
       "Label(value='The values of slider is : ')"
      ]
     },
     "metadata": {},
     "output_type": "display_data"
    },
    {
     "data": {
      "application/vnd.jupyter.widget-view+json": {
       "model_id": "04db178361a342e2b04365f0c0752859",
       "version_major": 2,
       "version_minor": 0
      },
      "text/plain": [
       "IntSlider(value=0, description='Slider', max=5, min=-5)"
      ]
     },
     "metadata": {},
     "output_type": "display_data"
    }
   ],
   "source": [
    "caption = widgets.Label(value='The values of slider is : ')\n",
    "slider = widgets.IntSlider(min=-5, max=5, value=0, description='Slider')\n",
    "\n",
    "def handle_slider_change(change):\n",
    "    print(change)\n",
    "    caption.value = 'The values of slider is : ' + str(change.new)\n",
    "\n",
    "slider.observe(handle_slider_change, names='value')\n",
    "\n",
    "display(caption, slider)"
   ]
  },
  {
   "cell_type": "markdown",
   "id": "64478866",
   "metadata": {},
   "source": [
    ">Please make a note that `observe()` gives us higher level of configuration compared to `link()`. If we want to only change value of widget based on another widget change then `link()` is ideal but if you want to do some kind of calculations with every change in widget value then `observe()` is ideal choice for you."
   ]
  },
  {
   "cell_type": "markdown",
   "id": "00cc4e14",
   "metadata": {},
   "source": [
    "# Widget Layout and Styling \n",
    "\n",
    "We'll now explain various layouts and styling available with ipywidgets. Various layout methods will let us organize a list of widgets according to different ways whereas the styling attribute of a widget will let us take care of the styling of widgets like height, width, color, button icon, etc.\n",
    "\n",
    "## Individual Widget Layout using `layout` attribute\n",
    "\n",
    "Each widget exposes `layout` attribute which can be given information about its layout. CSS properties quite commonly used in styling and layout can be passed to the layout attribute."
   ]
  },
  {
   "cell_type": "code",
   "execution_count": 179,
   "id": "7008c4e4",
   "metadata": {},
   "outputs": [
    {
     "data": {
      "application/vnd.jupyter.widget-view+json": {
       "model_id": "611c23cf46fd477481dbdd51e0d26ca7",
       "version_major": 2,
       "version_minor": 0
      },
      "text/plain": [
       "Button(description='Sample Button', layout=Layout(border_bottom='5px dashed blue', border_left='5px dashed blu…"
      ]
     },
     "execution_count": 179,
     "metadata": {},
     "output_type": "execute_result"
    }
   ],
   "source": [
    "b = widgets.Button(description='Sample Button',\n",
    "           layout=widgets.Layout(width='30%', height='50px', border='5px dashed blue'))\n",
    "b"
   ]
  },
  {
   "cell_type": "markdown",
   "id": "4cbb02f9",
   "metadata": {},
   "source": [
    "The above button takes 30% of space of the page and 50px as height."
   ]
  },
  {
   "cell_type": "markdown",
   "id": "94a7242d",
   "metadata": {},
   "source": [
    "## `VBox` and `HBox` for arranging widgets Vertically and Horizontally\n",
    "\n",
    "We can utilize `VBox` and `HBox` layout objects to layout objects as vertical and horizontal respectively. Below we are creating 4 buttons and all have a width of 30%."
   ]
  },
  {
   "cell_type": "code",
   "execution_count": 180,
   "id": "6f223c48",
   "metadata": {},
   "outputs": [
    {
     "data": {
      "application/vnd.jupyter.widget-view+json": {
       "model_id": "1eac03c6140c4b3e95b161c9e05a0c0e",
       "version_major": 2,
       "version_minor": 0
      },
      "text/plain": [
       "HBox(children=(Button(description='Button1', layout=Layout(width='30%'), style=ButtonStyle()), Button(descript…"
      ]
     },
     "execution_count": 180,
     "metadata": {},
     "output_type": "execute_result"
    }
   ],
   "source": [
    "b1 = widgets.Button(description=\"Button1\", layout=widgets.Layout(width=\"30%\"))\n",
    "b2 = widgets.Button(description=\"Button2\", layout=widgets.Layout(width=\"30%\"))\n",
    "b3 = widgets.Button(description=\"Button3\", layout=widgets.Layout(width=\"30%\"))\n",
    "b4 = widgets.Button(description=\"Button4\", layout=widgets.Layout(width=\"30%\"))\n",
    "\n",
    "h1 = widgets.HBox(children=[b1,b2])\n",
    "h1"
   ]
  },
  {
   "cell_type": "code",
   "execution_count": 181,
   "id": "1d98fd9b",
   "metadata": {},
   "outputs": [
    {
     "data": {
      "application/vnd.jupyter.widget-view+json": {
       "model_id": "813a3c5479b64bdbbcd0f8c64ac8ab1a",
       "version_major": 2,
       "version_minor": 0
      },
      "text/plain": [
       "HBox(children=(Button(description='Button3', layout=Layout(width='30%'), style=ButtonStyle()), Button(descript…"
      ]
     },
     "execution_count": 181,
     "metadata": {},
     "output_type": "execute_result"
    }
   ],
   "source": [
    "h2 = widgets.HBox(children=[b3,b4])\n",
    "h2"
   ]
  },
  {
   "cell_type": "code",
   "execution_count": 182,
   "id": "9bc1436f",
   "metadata": {},
   "outputs": [
    {
     "data": {
      "application/vnd.jupyter.widget-view+json": {
       "model_id": "51f0ce4ef3b047b5ab031f96879f8cbf",
       "version_major": 2,
       "version_minor": 0
      },
      "text/plain": [
       "VBox(children=(HBox(children=(Button(description='Button1', layout=Layout(width='30%'), style=ButtonStyle()), …"
      ]
     },
     "execution_count": 182,
     "metadata": {},
     "output_type": "execute_result"
    }
   ],
   "source": [
    "widgets.VBox(children=[h1,h2])"
   ]
  },
  {
   "cell_type": "markdown",
   "id": "4c0641f4",
   "metadata": {},
   "source": [
    "## `Box` Layout\n",
    "\n",
    "We can layout elements by simply calling `Box` layout object. It'll lay out all elements next to each other in a row. We can force layout based on passing size information as layout to `Box` objects to enforce our layout. We are creating Box which takes 30% of available page space and organized four buttons into it as a column. We can see that buttons are taking 30% width of Box layout object which itself takes 30% of the whole page."
   ]
  },
  {
   "cell_type": "code",
   "execution_count": 183,
   "id": "38cd692e",
   "metadata": {},
   "outputs": [
    {
     "data": {
      "application/vnd.jupyter.widget-view+json": {
       "model_id": "15342de21b1549189d085e6c8d6e5f49",
       "version_major": 2,
       "version_minor": 0
      },
      "text/plain": [
       "Box(children=(Button(description='Button1', layout=Layout(width='30%'), style=ButtonStyle()), Button(descripti…"
      ]
     },
     "execution_count": 183,
     "metadata": {},
     "output_type": "execute_result"
    }
   ],
   "source": [
    "layout = widgets.Layout(display='flex',\n",
    "         flex_flow='column',\n",
    "         border='solid',\n",
    "         width='30%')\n",
    "\n",
    "widgets.Box(children=[b1,b2,b3,b4], layout=layout)"
   ]
  },
  {
   "cell_type": "code",
   "execution_count": 184,
   "id": "d787f04c",
   "metadata": {},
   "outputs": [
    {
     "data": {
      "application/vnd.jupyter.widget-view+json": {
       "model_id": "61b4108bd79e4035a55229885967a766",
       "version_major": 2,
       "version_minor": 0
      },
      "text/plain": [
       "Box(children=(Button(description='Button1', layout=Layout(width='30%'), style=ButtonStyle()), Button(descripti…"
      ]
     },
     "execution_count": 184,
     "metadata": {},
     "output_type": "execute_result"
    }
   ],
   "source": [
    "layout = widgets.Layout(display='flex',\n",
    "         flex_flow='row',\n",
    "         border='solid',\n",
    "         width='30%')\n",
    "\n",
    "widgets.Box(children=[b1,b2,b3,b4], layout=layout)"
   ]
  },
  {
   "cell_type": "code",
   "execution_count": 185,
   "id": "e19b87b7",
   "metadata": {},
   "outputs": [
    {
     "data": {
      "application/vnd.jupyter.widget-view+json": {
       "model_id": "c617d140b6764825813cacb832fa5378",
       "version_major": 2,
       "version_minor": 0
      },
      "text/plain": [
       "VBox(children=(Label(value='Scroll horizontally:'), Box(children=(Button(button_style='success', description='…"
      ]
     },
     "execution_count": 185,
     "metadata": {},
     "output_type": "execute_result"
    }
   ],
   "source": [
    "item_layout = widgets.Layout(height='100px', min_width='40px')\n",
    "\n",
    "items = [widgets.Button(layout=item_layout, description=str(i), button_style='success') for i in range(40)]\n",
    "\n",
    "box_layout = widgets.Layout(overflow_x='scroll',\n",
    "                    border='3px solid black',\n",
    "                    width='500px',\n",
    "                    height='',\n",
    "                    flex_flow='row',\n",
    "                    display='flex')\n",
    "carousel = widgets.Box(children=items, layout=box_layout)\n",
    "widgets.VBox([widgets.Label('Scroll horizontally:'), carousel])"
   ]
  },
  {
   "cell_type": "markdown",
   "id": "90d2c99b",
   "metadata": {},
   "source": [
    "# GridBox for layout\n",
    "\n",
    "The **GridBox** is another object provided by ipywidgets which lets us organize things as grids. **Grids** are like a table with a specified number of rows and columns. We can pass a list of objects to **GridBox** and then force layout further using **Layout** object. We need to pass values of parameters `grid_template_columns`, `grid_template_rows` and `grid_gap` for creation of grids. The parameter `grid_template_columns` helps us specify what should be sizes of various columns whereas parameter `grid_template_rows` helps us specify sizes of rows in the grid. The parameter `grid_gap` has 2 values representing the gap between row boxes and column boxes respectively."
   ]
  },
  {
   "cell_type": "code",
   "execution_count": 186,
   "id": "4f5d5bec",
   "metadata": {},
   "outputs": [
    {
     "data": {
      "application/vnd.jupyter.widget-view+json": {
       "model_id": "26952fa422fb462fb2c2d257a7899cc4",
       "version_major": 2,
       "version_minor": 0
      },
      "text/plain": [
       "GridBox(children=(Button(button_style='danger', description='0', layout=Layout(height='auto', width='auto'), s…"
      ]
     },
     "execution_count": 186,
     "metadata": {},
     "output_type": "execute_result"
    }
   ],
   "source": [
    "widgets.GridBox(children=[widgets.Button(description=str(i), layout=widgets.Layout(width='auto', height='auto'),\n",
    "                         button_style='danger') for i in range(19)],\n",
    "\n",
    "                layout=widgets.Layout(\n",
    "                                    width='60%',\n",
    "                                    grid_template_columns='100px 50px 100px 50px',\n",
    "                                    grid_template_rows='80px auto 80px',\n",
    "                                    grid_gap='12px 2px')\n",
    "       )"
   ]
  },
  {
   "cell_type": "code",
   "execution_count": 187,
   "id": "d92b25ad",
   "metadata": {},
   "outputs": [
    {
     "data": {
      "application/vnd.jupyter.widget-view+json": {
       "model_id": "6ed06b612cb04cc0800242e43fa9460d",
       "version_major": 2,
       "version_minor": 0
      },
      "text/plain": [
       "GridBox(children=(Button(button_style='danger', description='0', layout=Layout(height='auto', width='auto'), s…"
      ]
     },
     "execution_count": 187,
     "metadata": {},
     "output_type": "execute_result"
    }
   ],
   "source": [
    "widgets.GridBox(children=[widgets.Button(description=str(i), layout=widgets.Layout(width='auto', height='auto'),\n",
    "                         button_style='danger') for i in range(16)],\n",
    "\n",
    "        layout=widgets.Layout(\n",
    "                            width='60%',\n",
    "                            grid_template_columns='20% 20% 20% 20%',\n",
    "                            grid_template_rows='80px 40px 80px 40px',\n",
    "                            grid_gap='12px 2px')\n",
    "       )"
   ]
  },
  {
   "cell_type": "markdown",
   "id": "2727bfba",
   "metadata": {},
   "source": [
    "## Exposed CSS properties Related to Layout and Styling\n",
    "\n",
    "Below is a list of common CSS properties that are available as parameter names in widget objects.\n",
    "\n",
    "Sizes\n",
    "- height\n",
    "- width\n",
    "- max_height\n",
    "- max_width\n",
    "- min_height\n",
    "- min_width\n",
    "\n",
    "Display\n",
    "- visibility\n",
    "- display\n",
    "- overflow\n",
    "\n",
    "Box model\n",
    "- border\n",
    "- margin\n",
    "- padding\n",
    "\n",
    "Positioning\n",
    "- top\n",
    "- left\n",
    "- bottom\n",
    "- right\n",
    "\n",
    "Flexbox\n",
    "- order\n",
    "- flex_flow\n",
    "- align_items\n",
    "- flex\n",
    "- align_self\n",
    "- align_content\n",
    "- justify_content\n",
    "- justify_items\n",
    "\n",
    "Grid layout\n",
    "- grid_auto_columns\n",
    "- grid_auto_flow\n",
    "- grid_auto_rows\n",
    "- grid_gap\n",
    "- grid_template_rows\n",
    "- grid_template_columns\n",
    "- grid_template_areas\n",
    "- grid_row\n",
    "- grid_column\n",
    "- grid_area\n",
    "\n",
    "Please feel free to explore various properties of ipywidgets widget objects to get to know about layout and styling."
   ]
  },
  {
   "cell_type": "markdown",
   "id": "e377c6e9",
   "metadata": {},
   "source": [
    "## TwoByTwoLayout Layout Object\n",
    "\n",
    "Another option provided by ipywidgets to organize widgets is TwoByTwoLayout. It gives us four places to put objects and if we do not provide a widget for any place then it keeps that place empty. We are organizing 4 buttons using this layout below. Please make a note that we have created a button with height and width as auto which stretches elements in available space."
   ]
  },
  {
   "cell_type": "code",
   "execution_count": 188,
   "id": "39d41ae9",
   "metadata": {},
   "outputs": [
    {
     "data": {
      "application/vnd.jupyter.widget-view+json": {
       "model_id": "340c0e67c1834683935c47dee9bba308",
       "version_major": 2,
       "version_minor": 0
      },
      "text/plain": [
       "TwoByTwoLayout(children=(Button(button_style='success', description='Button1', layout=Layout(grid_area='top-le…"
      ]
     },
     "execution_count": 188,
     "metadata": {},
     "output_type": "execute_result"
    }
   ],
   "source": [
    "b1 = widgets.Button(description=\"Button1\",\n",
    "                    layout=widgets.Layout(width=\"auto\", height=\"auto\"), button_style=\"success\")\n",
    "b2 = widgets.Button(description=\"Button2\",\n",
    "                    layout=widgets.Layout(width=\"auto\", height=\"auto\"), button_style=\"primary\")\n",
    "b3 = widgets.Button(description=\"Button3\",\n",
    "                    layout=widgets.Layout(width=\"auto\", height=\"auto\"), button_style=\"info\")\n",
    "b4 = widgets.Button(description=\"Button4\",\n",
    "                    layout=widgets.Layout(width=\"auto\", height=\"auto\"), button_style=\"warning\")\n",
    "\n",
    "widgets.TwoByTwoLayout(top_left=b1,\n",
    "                       top_right=b2,\n",
    "                       bottom_left=b3,\n",
    "                       bottom_right=b4)"
   ]
  },
  {
   "cell_type": "markdown",
   "id": "91171ccc",
   "metadata": {},
   "source": [
    "If we don't provide any element then it'll stretch other elements to take its space."
   ]
  },
  {
   "cell_type": "code",
   "execution_count": 189,
   "id": "9527e313",
   "metadata": {},
   "outputs": [
    {
     "data": {
      "application/vnd.jupyter.widget-view+json": {
       "model_id": "5949a13a5fbe4036a4e1f6351202357a",
       "version_major": 2,
       "version_minor": 0
      },
      "text/plain": [
       "TwoByTwoLayout(children=(Button(button_style='success', description='Button1', layout=Layout(grid_area='top-le…"
      ]
     },
     "execution_count": 189,
     "metadata": {},
     "output_type": "execute_result"
    }
   ],
   "source": [
    "widgets.TwoByTwoLayout(top_left=b1,\n",
    "                       top_right=b2,\n",
    "                       bottom_right=b4)"
   ]
  },
  {
   "cell_type": "markdown",
   "id": "2c67e0f6",
   "metadata": {},
   "source": [
    "We can prevent automatic stretching of the widget by passing `False` to `merge` parameter."
   ]
  },
  {
   "cell_type": "code",
   "execution_count": 190,
   "id": "4acec743",
   "metadata": {},
   "outputs": [
    {
     "data": {
      "application/vnd.jupyter.widget-view+json": {
       "model_id": "645665c97a1049489ad4838440b694d8",
       "version_major": 2,
       "version_minor": 0
      },
      "text/plain": [
       "TwoByTwoLayout(children=(Button(button_style='success', description='Button1', layout=Layout(grid_area='top-le…"
      ]
     },
     "execution_count": 190,
     "metadata": {},
     "output_type": "execute_result"
    }
   ],
   "source": [
    "widgets.TwoByTwoLayout(top_left=b1,\n",
    "                       top_right=b2,\n",
    "                       bottom_right=b4,\n",
    "                       merge=False\n",
    "                      )"
   ]
  },
  {
   "cell_type": "markdown",
   "id": "b1eb600c",
   "metadata": {},
   "source": [
    "## AppLayout\n",
    "AppLayout is another layout strategy that lets us organize widgets like a web app or desktop application layout."
   ]
  },
  {
   "cell_type": "code",
   "execution_count": 191,
   "id": "5ea4ff08",
   "metadata": {},
   "outputs": [],
   "source": [
    "header = widgets.Button(description=\"Header\",\n",
    "                    layout=widgets.Layout(width=\"auto\", height=\"auto\"), button_style=\"success\")\n",
    "footer = widgets.Button(description=\"Footer\",\n",
    "                    layout=widgets.Layout(width=\"auto\", height=\"auto\"), button_style=\"primary\")\n",
    "left = widgets.Button(description=\"Left\",\n",
    "                    layout=widgets.Layout(width=\"auto\", height=\"auto\"), button_style=\"info\")\n",
    "right = widgets.Button(description=\"Right\",\n",
    "                    layout=widgets.Layout(width=\"auto\", height=\"auto\"), button_style=\"warning\")\n",
    "center = widgets.Button(description=\"Center\",\n",
    "                    layout=widgets.Layout(width=\"auto\", height=\"auto\"), button_style=\"danger\")"
   ]
  },
  {
   "cell_type": "code",
   "execution_count": 192,
   "id": "2b4dac05",
   "metadata": {},
   "outputs": [
    {
     "data": {
      "application/vnd.jupyter.widget-view+json": {
       "model_id": "451108ae5a2c45b292f0677ab0ab55d2",
       "version_major": 2,
       "version_minor": 0
      },
      "text/plain": [
       "AppLayout(children=(Button(button_style='success', description='Header', layout=Layout(grid_area='header', hei…"
      ]
     },
     "execution_count": 192,
     "metadata": {},
     "output_type": "execute_result"
    }
   ],
   "source": [
    "widgets.AppLayout(header=header,\n",
    "          left_sidebar=left,\n",
    "          center=center,\n",
    "          right_sidebar=right,\n",
    "          footer=footer)"
   ]
  },
  {
   "cell_type": "markdown",
   "id": "f0c1111f",
   "metadata": {},
   "source": [
    "It'll merge widgets if widget for any place is not provided"
   ]
  },
  {
   "cell_type": "code",
   "execution_count": 193,
   "id": "1b7c96b4",
   "metadata": {},
   "outputs": [
    {
     "data": {
      "application/vnd.jupyter.widget-view+json": {
       "model_id": "81796eda50264829af56bbd04df7ac31",
       "version_major": 2,
       "version_minor": 0
      },
      "text/plain": [
       "AppLayout(children=(Button(button_style='success', description='Header', layout=Layout(grid_area='header', hei…"
      ]
     },
     "execution_count": 193,
     "metadata": {},
     "output_type": "execute_result"
    }
   ],
   "source": [
    "widgets.AppLayout(header=header,\n",
    "          left_sidebar=left,\n",
    "          center=center,\n",
    "          footer=footer)"
   ]
  },
  {
   "cell_type": "code",
   "execution_count": 194,
   "id": "821820de",
   "metadata": {},
   "outputs": [
    {
     "data": {
      "application/vnd.jupyter.widget-view+json": {
       "model_id": "b9d797c66ace48b292c46e7ed378a3b9",
       "version_major": 2,
       "version_minor": 0
      },
      "text/plain": [
       "AppLayout(children=(Button(button_style='success', description='Header', layout=Layout(grid_area='header', hei…"
      ]
     },
     "execution_count": 194,
     "metadata": {},
     "output_type": "execute_result"
    }
   ],
   "source": [
    "widgets.AppLayout(header=header,\n",
    "          left_sidebar=left,\n",
    "          center=center,\n",
    "          right_sidebar=right,)"
   ]
  },
  {
   "cell_type": "code",
   "execution_count": 195,
   "id": "65d69658",
   "metadata": {},
   "outputs": [
    {
     "data": {
      "application/vnd.jupyter.widget-view+json": {
       "model_id": "39b81b425994422fb9b60719cf47fab0",
       "version_major": 2,
       "version_minor": 0
      },
      "text/plain": [
       "AppLayout(children=(Button(button_style='success', description='Header', layout=Layout(grid_area='header', hei…"
      ]
     },
     "execution_count": 195,
     "metadata": {},
     "output_type": "execute_result"
    }
   ],
   "source": [
    "widgets.AppLayout(header=header,\n",
    "          left_sidebar=left,\n",
    "          right_sidebar=right,\n",
    "          footer=footer)"
   ]
  },
  {
   "cell_type": "markdown",
   "id": "51cf3ff4",
   "metadata": {},
   "source": [
    "# GridspecLayout\n",
    "It's another way of laying out widgets which is the same as matplotlib gridspec. It lets us define a grid with a number of rows and columns. We can then put widgets by selecting a single row & column or span them to more rows and columns as well. We'll explain it with a few examples below."
   ]
  },
  {
   "cell_type": "code",
   "execution_count": 196,
   "id": "938fb2ba",
   "metadata": {},
   "outputs": [
    {
     "data": {
      "application/vnd.jupyter.widget-view+json": {
       "model_id": "f381b8571bd44a6690ae3ce7a7dbde55",
       "version_major": 2,
       "version_minor": 0
      },
      "text/plain": [
       "GridspecLayout(children=(Button(button_style='primary', description='[0, 0]', layout=Layout(grid_area='widget0…"
      ]
     },
     "execution_count": 196,
     "metadata": {},
     "output_type": "execute_result"
    }
   ],
   "source": [
    "grid = widgets.GridspecLayout(5, 4)\n",
    "\n",
    "for i in range(5):\n",
    "    for j in range(4):\n",
    "        grid[i, j] = widgets.Button(description=\"[%d, %d]\"%(i,j), button_style=\"primary\")\n",
    "grid"
   ]
  },
  {
   "cell_type": "markdown",
   "id": "05e5049a",
   "metadata": {},
   "source": [
    ">Please make a note that if we don't provide layout to Button objects with layout of auto for width and height then it won't stretch for whole size of parent widget.\n",
    "\n",
    "We can span widgets to several rows and columns as well."
   ]
  },
  {
   "cell_type": "code",
   "execution_count": 197,
   "id": "89df693a",
   "metadata": {},
   "outputs": [
    {
     "data": {
      "application/vnd.jupyter.widget-view+json": {
       "model_id": "aa0732d9f6d5436687ab4b2d3b32ed47",
       "version_major": 2,
       "version_minor": 0
      },
      "text/plain": [
       "GridspecLayout(children=(Button(button_style='success', description='Button1', layout=Layout(grid_area='widget…"
      ]
     },
     "execution_count": 197,
     "metadata": {},
     "output_type": "execute_result"
    }
   ],
   "source": [
    "grid = widgets.GridspecLayout(6, 4)\n",
    "\n",
    "grid[0,1:] = widgets.Button(description=\"Button1\", layout=widgets.Layout(height=\"auto\", width=\"auto\"), button_style=\"success\")\n",
    "\n",
    "grid[-1,1:] = widgets.Button(description=\"Button2\", layout=widgets.Layout(height=\"auto\", width=\"auto\"), button_style=\"danger\")\n",
    "\n",
    "grid[:,0] = widgets.Button(description=\"Button3\", layout=widgets.Layout(height=\"auto\", width=\"auto\"), button_style=\"primary\")\n",
    "\n",
    "grid[1:-1,-1] = widgets.Button(description=\"Button4\", layout=widgets.Layout(height=\"auto\", width=\"auto\"), button_style=\"primary\")\n",
    "\n",
    "grid[3:-1,1:-1] = widgets.Button(description=\"Button5\", layout=widgets.Layout(height=\"auto\", width=\"auto\"), button_style=\"warning\")\n",
    "\n",
    "grid[1:3,1:-1] = widgets.Button(description=\"Button6\", layout=widgets.Layout(height=\"auto\", width=\"auto\"), button_style=\"info\")\n",
    "\n",
    "grid"
   ]
  },
  {
   "cell_type": "markdown",
   "id": "2d356859",
   "metadata": {},
   "source": [
    "## `style` attribute for CSS Styling\n",
    "\n",
    "We can pass CSS styles to the style attribute of a widget and it'll apply that CSS style to a widget. We already applied `button_style` attribute in the above examples. We can check a list of available style attributes in a widget by calling keys on its style attribute."
   ]
  },
  {
   "cell_type": "code",
   "execution_count": 198,
   "id": "2e872a4f",
   "metadata": {},
   "outputs": [
    {
     "data": {
      "application/vnd.jupyter.widget-view+json": {
       "model_id": "a015086b2bce4d13bad187b9b3c77d0a",
       "version_major": 2,
       "version_minor": 0
      },
      "text/plain": [
       "Button(description='Stylish Button', style=ButtonStyle(button_color='tomato'))"
      ]
     },
     "execution_count": 198,
     "metadata": {},
     "output_type": "execute_result"
    }
   ],
   "source": [
    "b = widgets.Button(description='Stylish Button')\n",
    "b.style.button_color = 'tomato'\n",
    "b"
   ]
  },
  {
   "cell_type": "code",
   "execution_count": 199,
   "id": "04b82f5a",
   "metadata": {},
   "outputs": [
    {
     "data": {
      "text/plain": [
       "['_model_module',\n",
       " '_model_module_version',\n",
       " '_model_name',\n",
       " '_view_count',\n",
       " '_view_module',\n",
       " '_view_module_version',\n",
       " '_view_name',\n",
       " 'button_color',\n",
       " 'font_family',\n",
       " 'font_size',\n",
       " 'font_style',\n",
       " 'font_variant',\n",
       " 'font_weight',\n",
       " 'text_color',\n",
       " 'text_decoration']"
      ]
     },
     "execution_count": 199,
     "metadata": {},
     "output_type": "execute_result"
    }
   ],
   "source": [
    "b.style.keys"
   ]
  },
  {
   "cell_type": "code",
   "execution_count": 200,
   "id": "141988fb",
   "metadata": {},
   "outputs": [
    {
     "data": {
      "application/vnd.jupyter.widget-view+json": {
       "model_id": "4262dec05459400db085d09c38e9f13d",
       "version_major": 2,
       "version_minor": 0
      },
      "text/plain": [
       "FloatSlider(value=0.0, description='Stylish Slider', style=SliderStyle(handle_color='lawngreen'))"
      ]
     },
     "execution_count": 200,
     "metadata": {},
     "output_type": "execute_result"
    }
   ],
   "source": [
    "slider= widgets.FloatSlider(description=\"Stylish Slider\")\n",
    "slider.style.handle_color=\"lawngreen\"\n",
    "slider"
   ]
  },
  {
   "cell_type": "code",
   "execution_count": 201,
   "id": "1fbd5050",
   "metadata": {},
   "outputs": [
    {
     "data": {
      "text/plain": [
       "['_model_module',\n",
       " '_model_module_version',\n",
       " '_model_name',\n",
       " '_view_count',\n",
       " '_view_module',\n",
       " '_view_module_version',\n",
       " '_view_name',\n",
       " 'description_width',\n",
       " 'handle_color']"
      ]
     },
     "execution_count": 201,
     "metadata": {},
     "output_type": "execute_result"
    }
   ],
   "source": [
    "slider.style.keys"
   ]
  },
  {
   "cell_type": "code",
   "execution_count": 202,
   "id": "df474fcd",
   "metadata": {},
   "outputs": [
    {
     "data": {
      "application/vnd.jupyter.widget-view+json": {
       "model_id": "69ed34b20dcc48ca8fcc136649be38dd",
       "version_major": 2,
       "version_minor": 0
      },
      "text/plain": [
       "FloatProgress(value=3.0, max=10.0, style=ProgressStyle(bar_color='purple'))"
      ]
     },
     "execution_count": 202,
     "metadata": {},
     "output_type": "execute_result"
    }
   ],
   "source": [
    "progress_bar = widgets.FloatProgress(value=3, min=0, max=10)\n",
    "progress_bar.style.bar_color = \"purple\"\n",
    "progress_bar"
   ]
  },
  {
   "cell_type": "code",
   "execution_count": 203,
   "id": "6abcd1ef",
   "metadata": {},
   "outputs": [
    {
     "data": {
      "text/plain": [
       "['_model_module',\n",
       " '_model_module_version',\n",
       " '_model_name',\n",
       " '_view_count',\n",
       " '_view_module',\n",
       " '_view_module_version',\n",
       " '_view_name',\n",
       " 'bar_color',\n",
       " 'description_width']"
      ]
     },
     "execution_count": 203,
     "metadata": {},
     "output_type": "execute_result"
    }
   ],
   "source": [
    "progress_bar.style.keys"
   ]
  },
  {
   "cell_type": "markdown",
   "id": "612efab6",
   "metadata": {},
   "source": [
    "This ends our topic giving an introduction on how to use interactive widgets in a Jupyter notebook using ipywidgets. Please feel free to let us know your views. We have tried to cover as many topics as possible but the library is quite big and needs further exploration to better understand things further. We'll be creating more tutorials on using ipywidgets with other python libraries."
   ]
  },
  {
   "cell_type": "markdown",
   "id": "dacd7e1e",
   "metadata": {},
   "source": [
    "--------------"
   ]
  }
 ],
 "metadata": {
  "kernelspec": {
   "display_name": "Python 3 (ipykernel)",
   "language": "python",
   "name": "python3"
  },
  "language_info": {
   "codemirror_mode": {
    "name": "ipython",
    "version": 3
   },
   "file_extension": ".py",
   "mimetype": "text/x-python",
   "name": "python",
   "nbconvert_exporter": "python",
   "pygments_lexer": "ipython3",
   "version": "3.11.0"
  }
 },
 "nbformat": 4,
 "nbformat_minor": 5
}
