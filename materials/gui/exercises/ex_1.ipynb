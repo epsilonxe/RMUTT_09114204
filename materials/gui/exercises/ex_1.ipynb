{
 "cells": [
  {
   "cell_type": "markdown",
   "id": "bfd986d6",
   "metadata": {},
   "source": [
    "# Exercise\n",
    "--------"
   ]
  },
  {
   "cell_type": "markdown",
   "id": "8d598912",
   "metadata": {},
   "source": [
    "# 1\n",
    "\n",
    "Write a GUI program to compute an area of triagle."
   ]
  },
  {
   "cell_type": "code",
   "execution_count": 1,
   "id": "ca8088e5",
   "metadata": {},
   "outputs": [],
   "source": [
    "# Your code here\n",
    "\n",
    "\n"
   ]
  },
  {
   "cell_type": "markdown",
   "id": "bb6a2042",
   "metadata": {},
   "source": [
    "---------\n",
    "# 2\n",
    "Write a GUI program to illustrate a graph of the equation $$ y = ax^2 + bx + c $$\n",
    "Note that $a \\neq 0$."
   ]
  },
  {
   "cell_type": "code",
   "execution_count": 2,
   "id": "a75b6020",
   "metadata": {},
   "outputs": [],
   "source": [
    "# Your code here\n",
    "\n",
    "\n"
   ]
  },
  {
   "cell_type": "markdown",
   "id": "4836f554",
   "metadata": {},
   "source": [
    "------\n",
    "# 3\n",
    "\n",
    "Write a GUI program to identify the [Body Mass Index](https://en.wikipedia.org/wiki/Body_mass_index) of a patient in hospital.\n",
    "See the given link or silimar articles for more information."
   ]
  },
  {
   "cell_type": "code",
   "execution_count": 3,
   "id": "cd3ffd50",
   "metadata": {},
   "outputs": [],
   "source": [
    "# Your code here\n",
    "\n",
    "\n"
   ]
  },
  {
   "cell_type": "markdown",
   "id": "6510485b",
   "metadata": {},
   "source": [
    "--------"
   ]
  }
 ],
 "metadata": {
  "kernelspec": {
   "display_name": "Python 3 (ipykernel)",
   "language": "python",
   "name": "python3"
  },
  "language_info": {
   "codemirror_mode": {
    "name": "ipython",
    "version": 3
   },
   "file_extension": ".py",
   "mimetype": "text/x-python",
   "name": "python",
   "nbconvert_exporter": "python",
   "pygments_lexer": "ipython3",
   "version": "3.11.0"
  }
 },
 "nbformat": 4,
 "nbformat_minor": 5
}
