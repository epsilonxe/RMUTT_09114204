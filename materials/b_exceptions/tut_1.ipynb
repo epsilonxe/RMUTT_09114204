{
 "cells": [
  {
   "cell_type": "markdown",
   "id": "ad3eedd9",
   "metadata": {},
   "source": [
    "# Handling of Errors and Exceptions\n",
    "\n",
    "A Python program terminates as soon as it encounters an error. In Python, an error can be a syntax error or an exception. In this article, you will see what an exception is and how it differs from a syntax error. After that, you will learn about raising exceptions and making assertions. Then, you’ll finish with a demonstration of the try and except block.\n",
    "\n",
    "<img src=\"images/intro.webp\" alt=\"intro\">"
   ]
  },
  {
   "cell_type": "markdown",
   "id": "719303c5",
   "metadata": {},
   "source": [
    "# Exceptions vs. Syntax Errors\n",
    "\n",
    "Syntax errors occur when the parser detects an incorrect statement. Observe the following example:"
   ]
  },
  {
   "cell_type": "code",
   "execution_count": null,
   "id": "2323fe90",
   "metadata": {},
   "outputs": [],
   "source": [
    "print( 0 / 0 ))"
   ]
  },
  {
   "cell_type": "markdown",
   "id": "877f2dec",
   "metadata": {},
   "source": [
    "The arrow indicates where the parser ran into the **syntax error**. In this example, there was one bracket too many. Remove it and run your code again:"
   ]
  },
  {
   "cell_type": "code",
   "execution_count": null,
   "id": "ff65cfc7",
   "metadata": {},
   "outputs": [],
   "source": [
    "print( 0 / 0)"
   ]
  },
  {
   "cell_type": "markdown",
   "id": "c839d30b",
   "metadata": {},
   "source": [
    "This time, you ran into an **exception error**. This type of error occurs whenever syntactically correct Python code results in an error. The last line of the message indicated what type of exception error you ran into.\n",
    "\n",
    "Instead of showing the message exception error, Python details what type of exception error was encountered. In this case, it was a `ZeroDivisionError`. Python comes with various built-in exceptions as well as the possibility to create self-defined exceptions."
   ]
  },
  {
   "cell_type": "markdown",
   "id": "bb269499",
   "metadata": {},
   "source": [
    "# Raising an Exception\n",
    "\n",
    "We can use `raise` to throw an exception if a condition occurs. The statement can be complemented with a custom exception.\n",
    "\n",
    "<img src=\"images/raise.webp\">\n",
    "\n",
    "If you want to throw an error when a certain condition occurs using `raise`, you could go about it like this:"
   ]
  },
  {
   "cell_type": "code",
   "execution_count": null,
   "id": "cbc8ab64",
   "metadata": {},
   "outputs": [],
   "source": [
    "x = 10\n",
    "if x > 5:\n",
    "    raise Exception(f'x should not exceed 5. The value of x was: {x}')"
   ]
  },
  {
   "cell_type": "markdown",
   "id": "8b0ab424",
   "metadata": {},
   "source": [
    "The program comes to a halt and displays our exception to screen, offering clues about what went wrong."
   ]
  },
  {
   "cell_type": "markdown",
   "id": "bcbcb731",
   "metadata": {},
   "source": [
    "# The AssertionError Exception\n",
    "Instead of waiting for a program to crash midway, you can also start by making an assertion in Python. We assert that a certain condition is met. If this condition turns out to be True, then that is excellent! The program can continue. If the condition turns out to be False, you can have the program throw an AssertionError exception.\n",
    "\n",
    "<img src=\"images/assert.webp\">\n",
    "\n",
    "Have a look at the following example, where it is asserted that the code will be executed on a Linux system:"
   ]
  },
  {
   "cell_type": "code",
   "execution_count": null,
   "id": "8dfacfd9",
   "metadata": {},
   "outputs": [],
   "source": [
    "import sys\n",
    "assert ('linux' in sys.platform), \"This code runs on Linux only.\""
   ]
  },
  {
   "cell_type": "markdown",
   "id": "c26ed937",
   "metadata": {},
   "source": [
    "If you run this code on a Linux machine, the assertion passes. If you were to run this code on a Windows machine, the outcome of the assertion would be False and the result would be shown.\n",
    "\n",
    "In this example, throwing an `AssertionError` exception is the last thing that the program will do. The program will come to halt and will not continue. What if that is not what you want?"
   ]
  },
  {
   "cell_type": "markdown",
   "id": "41b76879",
   "metadata": {},
   "source": [
    "# The `try` and `except` Block: Handling Exceptions\n",
    "\n",
    "The `try` and `except` block in Python is used to catch and handle exceptions. Python executes code following the try statement as a “normal” part of the program. The code that follows the except statement is the program’s response to any exceptions in the preceding try clause.\n",
    "\n",
    "<img src=\"images/try_except.webp\">\n",
    "\n",
    "As you saw earlier, when syntactically correct code runs into an error, Python will throw an exception error. This exception error will crash the program if it is unhandled. The except clause determines how your program responds to exceptions.\n",
    "\n",
    "The following function can help you understand the try and except block:"
   ]
  },
  {
   "cell_type": "code",
   "execution_count": null,
   "id": "f1017fad",
   "metadata": {},
   "outputs": [],
   "source": [
    "def linux_interaction():\n",
    "    assert ('linux' in sys.platform), \"Function can only run on Linux systems.\"\n",
    "    print('Doing something.')"
   ]
  },
  {
   "cell_type": "markdown",
   "id": "e7f24a40",
   "metadata": {},
   "source": [
    "The `linux_interaction()` can only run on a Linux system. The `assert` in this function will throw an `AssertionError` exception if you call it on an operating system other then Linux.\n",
    "\n",
    "You can give the function a try using the following code:"
   ]
  },
  {
   "cell_type": "code",
   "execution_count": null,
   "id": "44ffc33f",
   "metadata": {},
   "outputs": [],
   "source": [
    "try:\n",
    "    linux_interaction()\n",
    "except:\n",
    "    pass"
   ]
  },
  {
   "cell_type": "markdown",
   "id": "cef4519c",
   "metadata": {},
   "source": [
    "The way you handled the error here is by handing out a pass. If you were to run this code on a Windows machine, you would get the following output:\n",
    "\n",
    "```console\n",
    "\n",
    "\n",
    "```\n",
    "\n",
    "You got nothing. The good thing here is that the program did not crash. But it would be nice to see if some type of exception occurred whenever you ran your code. To this end, you can change the pass into something that would generate an informative message, like so:"
   ]
  },
  {
   "cell_type": "code",
   "execution_count": null,
   "id": "5b497a47",
   "metadata": {},
   "outputs": [],
   "source": [
    "try:\n",
    "    linux_interaction()\n",
    "except:\n",
    "    print('Linux function was not executed')"
   ]
  },
  {
   "cell_type": "markdown",
   "id": "f814aab7",
   "metadata": {},
   "source": [
    "When an exception occurs in a program running this function, the program will continue as well as inform you about the fact that the function call was not successful.\n",
    "\n",
    "What you did not get to see was the type of error that was thrown as a result of the function call. In order to see exactly what went wrong, you would need to catch the error that the function threw.\n",
    "\n",
    "The following code is an example where you capture the `AssertionError` and output that message to screen:"
   ]
  },
  {
   "cell_type": "code",
   "execution_count": null,
   "id": "041f0652",
   "metadata": {},
   "outputs": [],
   "source": [
    "try:\n",
    "    linux_interaction()\n",
    "except AssertionError as error:\n",
    "    print(error)\n",
    "    print('The linux_interaction() function was not executed')"
   ]
  },
  {
   "cell_type": "markdown",
   "id": "7cf1f451",
   "metadata": {},
   "source": [
    "The first message is the `AssertionError`, informing you that the function can only be executed on a Linux machine. The second message tells you which function was not executed.\n",
    "\n",
    "In the previous example, you called a function that you wrote yourself. When you executed the function, you caught the AssertionError exception and printed it to screen.\n",
    "\n",
    "Here’s another example where you open a file and use a built-in exception:"
   ]
  },
  {
   "cell_type": "code",
   "execution_count": null,
   "id": "62279506",
   "metadata": {},
   "outputs": [],
   "source": [
    "try:\n",
    "    with open('file.log') as file:\n",
    "        read_data = file.read()\n",
    "except:\n",
    "    print('Could not open file.log')"
   ]
  },
  {
   "cell_type": "markdown",
   "id": "fddb3872",
   "metadata": {},
   "source": [
    "This is an informative message, and our program will still continue to run. In the Python docs, you can see that there are a lot of built-in exceptions that you can use here. One exception described on that page is the following:\n",
    "\n",
    ">Exception FileNotFoundError\n",
    "\n",
    ">Raised when a file or directory is requested but doesn’t exist. Corresponds to errno ENOENT.\n",
    "\n",
    "To catch this type of exception and print it to screen, you could use the following code:"
   ]
  },
  {
   "cell_type": "code",
   "execution_count": null,
   "id": "31aad5ea",
   "metadata": {},
   "outputs": [],
   "source": [
    "try:\n",
    "    with open('file.log') as file:\n",
    "        read_data = file.read()\n",
    "except FileNotFoundError as fnf_error:\n",
    "    print(fnf_error)"
   ]
  },
  {
   "cell_type": "markdown",
   "id": "3cc76a9d",
   "metadata": {},
   "source": [
    "You can have more than one function call in your try clause and anticipate catching various exceptions. A thing to note here is that the code in the try clause will stop as soon as an exception is encountered.\n",
    "\n",
    ">**Warning:** Catching Exception hides all errors … even those which are completely unexpected. This is why you should avoid bare except clauses in your Python programs. Instead, you’ll want to refer to specific exception classes you want to catch and handle. "
   ]
  },
  {
   "cell_type": "markdown",
   "id": "82f1cecf",
   "metadata": {},
   "source": [
    "Look at the following code. Here, you first call the `linux_interaction()` function and then try to open a file:"
   ]
  },
  {
   "cell_type": "code",
   "execution_count": null,
   "id": "857fc4a0",
   "metadata": {},
   "outputs": [],
   "source": [
    "try:\n",
    "    linux_interaction()\n",
    "    with open('file.log') as file:\n",
    "        read_data = file.read()\n",
    "except FileNotFoundError as fnf_error:\n",
    "    print(fnf_error)\n",
    "except AssertionError as error:\n",
    "    print(error)\n",
    "    print('Linux linux_interaction() function was not executed')"
   ]
  },
  {
   "cell_type": "markdown",
   "id": "fc1b91be",
   "metadata": {},
   "source": [
    "Inside the try clause, you ran into an exception immediately and did not get to the part where you attempt to open file.log. Now look at what happens when you run the code on a Linux machine:\n",
    "\n",
    "```console\n",
    "[Errno 2] No such file or directory: 'file.log'\n",
    "```\n",
    "\n",
    "Here are the key takeaways:\n",
    "\n",
    "-  A try clause is executed up until the point where the first exception is encountered.\n",
    "- Inside the except clause, or the exception handler, you determine how the program responds to the exception.\n",
    "You can anticipate multiple exceptions and differentiate how the program should respond to them.\n",
    "- Avoid using bare except clauses."
   ]
  },
  {
   "cell_type": "markdown",
   "id": "7c474544",
   "metadata": {},
   "source": [
    "## The `else` Clause\n",
    "\n",
    "In Python, using the `else` statement, you can instruct a program to execute a certain block of code only in the absence of exceptions.\n",
    "\n",
    "<img src=\"images/try_except_else.webp\">\n",
    "\n",
    "Look at the following example:"
   ]
  },
  {
   "cell_type": "code",
   "execution_count": null,
   "id": "7580a877",
   "metadata": {},
   "outputs": [],
   "source": [
    "try:\n",
    "    linux_interaction()\n",
    "except AssertionError as error:\n",
    "    print(error)\n",
    "else:\n",
    "    print('Executing the else clause.')"
   ]
  },
  {
   "cell_type": "markdown",
   "id": "20365529",
   "metadata": {},
   "source": [
    "Because the program did not run into any exceptions, the else clause was executed.\n",
    "\n",
    "You can also try to run code inside the else clause and catch possible exceptions there as well:"
   ]
  },
  {
   "cell_type": "code",
   "execution_count": null,
   "id": "2425f109",
   "metadata": {},
   "outputs": [],
   "source": [
    "try:\n",
    "    linux_interaction()\n",
    "except AssertionError as error:\n",
    "    print(error)\n",
    "else:\n",
    "    try:\n",
    "        with open('file.log') as file:\n",
    "            read_data = file.read()\n",
    "    except FileNotFoundError as fnf_error:\n",
    "        print(fnf_error)"
   ]
  },
  {
   "cell_type": "markdown",
   "id": "2435eb3d",
   "metadata": {},
   "source": [
    "If you were to execute this code on a Linux machine, you would get the following result:\n",
    "\n",
    "```console\n",
    "[Errno 2] No such file or directory: 'file.log'\n",
    "```\n",
    "\n",
    "From the output, you can see that the `linux_interaction()` function ran. Because no exceptions were encountered, an attempt to open file.log was made. That file did not exist, and instead of opening the file, you caught the `FileNotFoundError` exception."
   ]
  },
  {
   "cell_type": "markdown",
   "id": "9585c9a5",
   "metadata": {},
   "source": [
    "# Cleaning Up After Using finally\n",
    "\n",
    "Imagine that you always had to implement some sort of action to clean up after executing your code. Python enables you to do so using the finally clause.\n",
    "\n",
    "<img src=\"images/try_except_else_finally.webp\">\n",
    "\n",
    "Have a look at the following example:"
   ]
  },
  {
   "cell_type": "code",
   "execution_count": null,
   "id": "7ab8ffcb",
   "metadata": {},
   "outputs": [],
   "source": [
    "try:\n",
    "    linux_interaction()\n",
    "except AssertionError as error:\n",
    "    print(error)\n",
    "else:\n",
    "    try:\n",
    "        with open('file.log') as file:\n",
    "            read_data = file.read()\n",
    "    except FileNotFoundError as fnf_error:\n",
    "        print(fnf_error)\n",
    "finally:\n",
    "    print('Cleaning up, irrespective of any exceptions.')"
   ]
  },
  {
   "cell_type": "markdown",
   "id": "e4a626f2",
   "metadata": {},
   "source": [
    "In the previous code, everything in the finally clause will be executed. It does not matter if you encounter an exception somewhere in the `try` or `else` clauses."
   ]
  },
  {
   "cell_type": "markdown",
   "id": "56e8f2c3",
   "metadata": {},
   "source": [
    "# Summing Up\n",
    "After seeing the difference between syntax errors and exceptions, you learned about various ways to raise, catch, and handle exceptions in Python. In this article, you saw the following options:\n",
    "\n",
    "- `raise` allows you to throw an exception at any time.\n",
    "- `assert` enables you to verify if a certain condition is met and throw an exception if it isn’t.\n",
    "- In the `try` clause, all statements are executed until an exception is encountered.\n",
    "- `except` is used to catch and handle the exception(s) that are encountered in the try clause.\n",
    "- `else` lets you code sections that should run only when no exceptions are encountered in the try clause.\n",
    "- `finally` enables you to execute sections of code that should always run, with or without any previously encountered exceptions.\n",
    "---------"
   ]
  },
  {
   "cell_type": "markdown",
   "id": "887aa9f5",
   "metadata": {},
   "source": [
    "# Your turn!\n",
    "\n",
    "To check your understanding, try to complete the [exercise](exercises/ex_1.py)!"
   ]
  },
  {
   "cell_type": "markdown",
   "id": "4d8695de",
   "metadata": {},
   "source": [
    "---------"
   ]
  }
 ],
 "metadata": {
  "kernelspec": {
   "display_name": "Python 3 (ipykernel)",
   "language": "python",
   "name": "python3"
  },
  "language_info": {
   "codemirror_mode": {
    "name": "ipython",
    "version": 3
   },
   "file_extension": ".py",
   "mimetype": "text/x-python",
   "name": "python",
   "nbconvert_exporter": "python",
   "pygments_lexer": "ipython3",
   "version": "3.11.0"
  }
 },
 "nbformat": 4,
 "nbformat_minor": 5
}
