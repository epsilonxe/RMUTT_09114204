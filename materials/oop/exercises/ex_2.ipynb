{
 "cells": [
  {
   "cell_type": "markdown",
   "id": "1003aa51",
   "metadata": {},
   "source": [
    "# Exercise\n",
    "\n",
    "------"
   ]
  },
  {
   "cell_type": "markdown",
   "id": "da79e4a5",
   "metadata": {},
   "source": [
    "## 1\n",
    "\n",
    "Create a `GoldenRetriever` class that inherits from the `Dog` class. Give the sound argument of `GoldenRetriever.speak()` a default value of \"Bark\". \n",
    "\n",
    "Use the following code for your parent `Dog` class:"
   ]
  },
  {
   "cell_type": "code",
   "execution_count": 1,
   "id": "178f3d0c",
   "metadata": {},
   "outputs": [],
   "source": [
    "class Dog:\n",
    "    species = \"Canis familiaris\"\n",
    "\n",
    "    def __init__(self, name, age):\n",
    "        self.name = name\n",
    "        self.age = age\n",
    "\n",
    "    def __str__(self):\n",
    "        return f\"{self.name} is {self.age} years old\"\n",
    "\n",
    "    def speak(self, sound):\n",
    "        return f\"{self.name} says {sound}\""
   ]
  },
  {
   "cell_type": "code",
   "execution_count": 2,
   "id": "fa5377d9",
   "metadata": {},
   "outputs": [],
   "source": [
    "# Your code here:\n",
    "\n",
    "\n",
    "\n"
   ]
  },
  {
   "cell_type": "markdown",
   "id": "b9153a85",
   "metadata": {},
   "source": [
    "----------------------\n",
    "## 2\n",
    "\n",
    "Consider the class `Shape` with a `__init__` method that takes in a `color` attribute and sets it as an instance variable."
   ]
  },
  {
   "cell_type": "code",
   "execution_count": 2,
   "id": "f8cc6958",
   "metadata": {},
   "outputs": [],
   "source": [
    "class Shape:\n",
    "    def __init__(self, color):\n",
    "        self.color = color\n",
    "    \n",
    "    def area(self):\n",
    "        print(\"Area not implemented\")"
   ]
  },
  {
   "cell_type": "markdown",
   "id": "ec205283",
   "metadata": {},
   "source": [
    "Define two subclasses `Rectangle` and `Circle` that inherit from `Shape`. \n",
    "\n",
    "- The `Rectangle` class should have a `__init__` method that calls the **superclass's `__init__` method** and sets additional attributes `width` and `height`. It should also override the area method to return the area of the rectangle. \n",
    "\n",
    "- The Circle class should have a `__init__` method that calls the **superclass's `__init__` method** and sets an additional attribute `radius`. It should also override the area method to return the area of the circle."
   ]
  },
  {
   "cell_type": "code",
   "execution_count": 3,
   "id": "846ca813",
   "metadata": {},
   "outputs": [],
   "source": [
    "# Your code here:\n",
    "\n",
    "\n",
    "\n"
   ]
  },
  {
   "cell_type": "markdown",
   "id": "4afc0362",
   "metadata": {},
   "source": [
    "--------------------\n",
    "## 3\n",
    "\n",
    "Define a base class `Person` with a `__init__` method that takes in `name`, `age`, and `gender` attributes and sets them as instance variables. Also define a method `introduce` that prints a message introducing the person."
   ]
  },
  {
   "cell_type": "code",
   "execution_count": 4,
   "id": "56ec063d",
   "metadata": {},
   "outputs": [],
   "source": [
    "class Person:\n",
    "    def __init__(self, name, age, gender):\n",
    "        self.name = name\n",
    "        self.age = age\n",
    "        self.gender = gender\n",
    "    \n",
    "    def introduce(self):\n",
    "        print(f\"Hi, my name is {self.name}\")"
   ]
  },
  {
   "cell_type": "markdown",
   "id": "0e7e2d74",
   "metadata": {},
   "source": [
    "Then, define two subclasses `Student` and `Instructor` that inherit from ``Person. \n",
    "\n",
    "The `Student` class should have a `__init__` method that calls the superclass's `__init__` method and sets an additional attribute major. It should also override the `introduce` method to print a message introducing the student and mentioning their major. \n",
    "\n",
    "The `Instructor` class should have a` __init__` method that calls the superclass's `__init__` method and sets an additional attribute courses_taught. It should also override the `introduce` method to print a message introducing the instructor and mentioning the courses they teach."
   ]
  },
  {
   "cell_type": "code",
   "execution_count": 5,
   "id": "bf93f8d9",
   "metadata": {},
   "outputs": [],
   "source": [
    "# Your code here\n",
    "\n",
    "\n",
    "\n"
   ]
  },
  {
   "cell_type": "markdown",
   "id": "2aa4d7f7",
   "metadata": {},
   "source": [
    "You can test your solution by creating instances of the `Student` and `Instructor` classes and calling the `introduce` method on them. For example:\n",
    "\n",
    "```python\n",
    "student = Student(\"John\", 20, \"Male\", \"Mathematics\")\n",
    "student.introduce() # Output: \"Hi, my name is John. I am majoring in Mathematics.\"\n",
    "\n",
    "instructor = Instructor(\"Jane\", 30, \"Female\", [\"MA101\", \"MA102\"])\n",
    "instructor.introduce() # Output: \"Hi, my name is Jane. I teach the following courses: MA101, MA102.\"\n",
    "```"
   ]
  },
  {
   "cell_type": "code",
   "execution_count": null,
   "id": "4d296751",
   "metadata": {},
   "outputs": [],
   "source": [
    "\n",
    "\n",
    "\n",
    "\n"
   ]
  },
  {
   "cell_type": "markdown",
   "id": "eb36ea1f",
   "metadata": {},
   "source": [
    "-----------------------\n",
    " ## 4\n",
    " \n",
    "Define a base class `Character` with a `__init__` method that takes in `name`, `health`, and `power` attributes and sets them as instance variables. Also define a method `attack` that takes in another character and reduces their health by the attacking character's power."
   ]
  },
  {
   "cell_type": "code",
   "execution_count": 6,
   "id": "11971cdc",
   "metadata": {},
   "outputs": [],
   "source": [
    "class Character:\n",
    "    def __init__(self, name, health, power):\n",
    "        self.name = name\n",
    "        self.health = health\n",
    "        self.power = power\n",
    "    \n",
    "    def attack(self, other_character):\n",
    "        other_character.health -= self.power"
   ]
  },
  {
   "cell_type": "markdown",
   "id": "c213c248",
   "metadata": {},
   "source": [
    "Then, define two subclasses `Hero` and `Villain` that inherit from `Character`.\n",
    "\n",
    "The `Hero` class should have a `__init__` method that calls the superclass's `__init__` method and sets an additional attribute `armor`. It should also override the `attack` method to take into account the hero's `armor`. If the hero has armor, reduce the damage taken by the value of the armor. If the hero does not have armor, the attack should work as it does in the base class. \n",
    "\n",
    "The `Villain` class should have a `__init__` method that calls the superclass's `__init__` method and sets an additional attribute `evil_plan`. It should also override the `attack` method to print a message saying that the villain is executing their evil plan."
   ]
  },
  {
   "cell_type": "code",
   "execution_count": null,
   "id": "b54d2069",
   "metadata": {},
   "outputs": [],
   "source": [
    "\n",
    "\n",
    "\n",
    "\n"
   ]
  },
  {
   "cell_type": "markdown",
   "id": "28d040f4",
   "metadata": {},
   "source": [
    "You can test your solution by creating instances of the `Hero` and `Villain` classes and calling the `attack` method on them. For example:\n",
    "\n",
    "```python\n",
    "hero1 = Hero(\"Superman\", 100, 30, 10)\n",
    "villain1 = Villain(\"Lex Luthor\", 100, 30, \"Take over the world\")\n",
    "\n",
    "hero1.attack(villain1)\n",
    "print(villain1.health) # Output: Health 70\n",
    "\n",
    "villain1.attack(hero1)\n",
    "print(hero1.health) # Output: Health 80\n",
    "```"
   ]
  },
  {
   "cell_type": "code",
   "execution_count": null,
   "id": "70999042",
   "metadata": {},
   "outputs": [],
   "source": [
    "\n",
    "\n",
    "\n",
    "\n"
   ]
  },
  {
   "cell_type": "markdown",
   "id": "d08c35a5",
   "metadata": {},
   "source": [
    "----------"
   ]
  }
 ],
 "metadata": {
  "kernelspec": {
   "display_name": "Python 3 (ipykernel)",
   "language": "python",
   "name": "python3"
  },
  "language_info": {
   "codemirror_mode": {
    "name": "ipython",
    "version": 3
   },
   "file_extension": ".py",
   "mimetype": "text/x-python",
   "name": "python",
   "nbconvert_exporter": "python",
   "pygments_lexer": "ipython3",
   "version": "3.11.0"
  }
 },
 "nbformat": 4,
 "nbformat_minor": 5
}
