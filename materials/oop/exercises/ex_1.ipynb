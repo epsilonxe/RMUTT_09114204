{
 "cells": [
  {
   "cell_type": "markdown",
   "id": "a0da1edb",
   "metadata": {},
   "source": [
    "# Exercise\n",
    "\n",
    "------"
   ]
  },
  {
   "cell_type": "markdown",
   "id": "486964aa",
   "metadata": {},
   "source": [
    "## 1\n",
    "\n",
    "Create a Car class with two instance attributes:\n",
    "\n",
    "1. `.color`, which stores the name of the car’s color as a string\n",
    "2. `.mileage`, which stores the number of miles on the car as an integer\n",
    "\n",
    "Then instantiate two Car objects—a blue car with 20,000 miles and a red car with 30,000 miles—and print out their colors and mileage. Your output should look like this:\n",
    "\n",
    "```console\n",
    "The blue car has 20,000 miles.\n",
    "The red car has 30,000 miles.\n",
    "```"
   ]
  },
  {
   "cell_type": "code",
   "execution_count": null,
   "id": "6bb9755e",
   "metadata": {},
   "outputs": [],
   "source": [
    "\n",
    "\n",
    "\n",
    "\n"
   ]
  },
  {
   "cell_type": "markdown",
   "id": "fec9a8e4",
   "metadata": {},
   "source": [
    "---------"
   ]
  },
  {
   "cell_type": "markdown",
   "id": "dae16ee7",
   "metadata": {},
   "source": [
    "## 2\n",
    "Define a Student class with four instance attribures:\n",
    "1. `.name`, which holds the full name of the student as a string, e.g., 'John Downy'\n",
    "2. `.sex`, which holds either `'male'` or `'female'`,\n",
    "3. `.birthdate`, which holds the birthdate as an integer in the format of YYYYMMDD, e.g., 19950204 for \"4th December 1995\",\n",
    "4. `.gpa`, which holds the student GPA as a float with 2 decimal points, e.g., 2.75.\n",
    "\n",
    "Consequently, creates a Student object, and print out its data in the following format, \n",
    "\n",
    "```console\n",
    "Mr. John Downy/ 19950204/ 2.75\n",
    "Ms. Susann Katzyan/ 20081125/ 3.22\n",
    "```\n"
   ]
  },
  {
   "cell_type": "code",
   "execution_count": null,
   "id": "bb8db339",
   "metadata": {},
   "outputs": [],
   "source": [
    "\n",
    "\n",
    "\n",
    "\n"
   ]
  },
  {
   "cell_type": "markdown",
   "id": "7bea07ad",
   "metadata": {},
   "source": [
    "--------------------\n",
    "## 3\n",
    "\n",
    "From the Student class defined above, write a class method `.status()`, which prints a string showing the status from the following conditions\n",
    "\n",
    "| GPA    |    Status      |\n",
    "|:--------|:----------------|\n",
    "| < 1.00 |   Dismissal     |\n",
    "| >= 1.00 and < 2.00 | Probation |\n",
    "| >= 2.00 and < 2.75 | Normal |\n",
    "| >= 2.75 | Good |\n",
    "\n"
   ]
  },
  {
   "cell_type": "code",
   "execution_count": null,
   "id": "4a1a7771",
   "metadata": {},
   "outputs": [],
   "source": [
    "\n",
    "\n",
    "\n",
    "\n"
   ]
  },
  {
   "cell_type": "markdown",
   "id": "909e38b6",
   "metadata": {},
   "source": [
    "----------------------\n",
    "## 4\n",
    "\n",
    "Define a Book class with 3 instance atrributes:\n",
    "\n",
    "1. `.title`, which stores the book title as a string,\n",
    "2. `.author`, which stores the author's name as a string,\n",
    "3. `.year`, which stores the publishing year.\n",
    "\n",
    "When print its object, the output shoud be like:\n",
    "\n",
    "```console\n",
    "Mathematical Analysis written by Walter Rudin was published in 1992.\n",
    "```"
   ]
  },
  {
   "cell_type": "code",
   "execution_count": null,
   "id": "760c56ab",
   "metadata": {},
   "outputs": [],
   "source": [
    "\n",
    "\n",
    "\n",
    "\n"
   ]
  },
  {
   "cell_type": "markdown",
   "id": "8f38e3c1",
   "metadata": {},
   "source": [
    "----------------------\n",
    "\n",
    "## 5\n",
    "\n",
    "Define a class called `BankAccount` that has three attributes: `balance`, `owner`, and `transactions`. \n",
    "\n",
    "- The `balance` attribute should be initialized to 0, and the transactions attribute should be initialized to an empty list.\n",
    "- Define the following methods for the BankAccount class:\n",
    "    1. `deposit(amount)`: adds the amount to the balance and records the transaction in the transactions list.\n",
    "    2. `withdraw(amount)`: subtracts the amount from the balance and records the transaction in the transactions list. If the amount is greater than the balance, print an error message.\n",
    "    3. `get_balance()`: returns the current balance.\n",
    "    4. `get_transactions()`: returns a list of all the transactions.\n",
    "- Define a constructor method that initializes the `owner` attribute."
   ]
  },
  {
   "cell_type": "code",
   "execution_count": null,
   "id": "b22ebcf7",
   "metadata": {},
   "outputs": [],
   "source": [
    "\n",
    "\n",
    "\n",
    "\n"
   ]
  },
  {
   "cell_type": "markdown",
   "id": "6c048f88",
   "metadata": {},
   "source": [
    "Create an instance of the BankAccount class with your own name as the owner. \n",
    "\n",
    "Test the methods by making several deposits and withdrawals, and print the balance and transaction history using the get_balance and get_transactions methods.\n",
    "\n",
    "For example, \n",
    "\n",
    "```python\n",
    "account = BankAccount(\"John\")\n",
    "account.deposit(100)\n",
    "account.withdraw(50)\n",
    "account.deposit(500)\n",
    "print(account.get_balance())  # Output: 550\n",
    "print(account.get_transactions())  # Output: ['Deposited 100', 'Withdrew 50', 'Deposited 500']\n",
    "\n",
    "```"
   ]
  },
  {
   "cell_type": "code",
   "execution_count": null,
   "id": "abade852",
   "metadata": {},
   "outputs": [],
   "source": [
    "\n",
    "\n",
    "\n",
    "\n"
   ]
  },
  {
   "cell_type": "markdown",
   "id": "970e01e1",
   "metadata": {},
   "source": [
    "-----------------\n",
    "## 6\n",
    "Define a class called `Circle` that has two attributes: `radius` and `color`.\n",
    "\n",
    "Define the following methods for the Circle class:\n",
    "- `get_radius()`: returns the radius of the circle.\n",
    "- `get_color()`: returns the color of the circle.\n",
    "- `set_radius(radius)`: sets the radius of the circle to the specified value.\n",
    "- `set_color(color)`: sets the color of the circle to the specified value.\n",
    "- `get_area()`: returns the area of the circle.\n",
    "- `get_circumference()`: returns the circumference of the circle.\n",
    "\n",
    "Also define a constructor method that initializes the `radius` and `color` attributes.\n"
   ]
  },
  {
   "cell_type": "code",
   "execution_count": null,
   "id": "ba4d1070",
   "metadata": {},
   "outputs": [],
   "source": [
    "\n",
    "\n",
    "\n",
    "\n"
   ]
  },
  {
   "cell_type": "markdown",
   "id": "994c1c7e",
   "metadata": {},
   "source": [
    "Create an instance of the Circle class with your own preferred radius and color. Test the methods by printing the radius, color, area, and circumference of the circle.\n",
    "\n",
    "For example,\n",
    "\n",
    "```python\n",
    "circle = Circle(5, \"red\")\n",
    "print(circle.get_radius())  # Output: 5\n",
    "print(circle.get_color())  # Output: \"red\"\n",
    "print(circle.get_area())  # Output: 78.53981633974483\n",
    "print(circle.get_circumference())  # Output: 31.41592653589793\n",
    "```"
   ]
  },
  {
   "cell_type": "code",
   "execution_count": null,
   "id": "775c44a8",
   "metadata": {},
   "outputs": [],
   "source": [
    "\n",
    "\n",
    "\n",
    "\n"
   ]
  },
  {
   "cell_type": "markdown",
   "id": "ee92f6aa",
   "metadata": {},
   "source": [
    "---------------\n",
    "## 7\n",
    "Here is an exercise for creating a class that represents a character in an RPG game\n",
    "\n",
    "1. Define a class called `Character` that has three attributes: `name`, `health`, and `power`.\n",
    "2. Define the following methods for the Character class:\n",
    "    - `attack(other_character)`: reduces the other_character's health by the attacking character's power.\n",
    "    - `is_alive()`: returns `True` if the character's health is greater than 0, and `False` otherwise.\n",
    "    - `get_health()`: returns the character's current health.\n",
    "3. Define a constructor method that initializes the `name`, `health`, and `power` attributes."
   ]
  },
  {
   "cell_type": "code",
   "execution_count": null,
   "id": "4b657e6d",
   "metadata": {},
   "outputs": [],
   "source": [
    "\n",
    "\n",
    "\n",
    "\n"
   ]
  },
  {
   "cell_type": "markdown",
   "id": "19023cea",
   "metadata": {},
   "source": [
    "Create two instances of the Character class with different names, health, and power values. Test the attack method by making one character attack the other, and print the health of each character using the get_health method to verify that the attack was successful.\n",
    "\n",
    "For example,\n",
    "\n",
    "```python\n",
    "hero = Character(\"Hero\", 10, 5)\n",
    "villain = Character(\"Villain\", 5, 10)\n",
    "hero.attack(villain)\n",
    "print(villain.get_health())  # Output: 0\n",
    "print(villain.is_alive())  # Output: False\n",
    "```"
   ]
  },
  {
   "cell_type": "code",
   "execution_count": null,
   "id": "d6d4737a",
   "metadata": {},
   "outputs": [],
   "source": [
    "\n",
    "\n",
    "\n",
    "\n"
   ]
  },
  {
   "cell_type": "markdown",
   "id": "940040e6",
   "metadata": {},
   "source": [
    "------------"
   ]
  }
 ],
 "metadata": {
  "kernelspec": {
   "display_name": "Python 3 (ipykernel)",
   "language": "python",
   "name": "python3"
  },
  "language_info": {
   "codemirror_mode": {
    "name": "ipython",
    "version": 3
   },
   "file_extension": ".py",
   "mimetype": "text/x-python",
   "name": "python",
   "nbconvert_exporter": "python",
   "pygments_lexer": "ipython3",
   "version": "3.11.0"
  }
 },
 "nbformat": 4,
 "nbformat_minor": 5
}
