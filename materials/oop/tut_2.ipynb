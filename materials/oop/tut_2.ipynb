{
 "cells": [
  {
   "cell_type": "markdown",
   "id": "f62afe2e",
   "metadata": {},
   "source": [
    "# Inherit From Other Classes in Python\n",
    "\n",
    "Inheritance is the process by which one class takes on the attributes and methods of another. Newly formed classes are called child classes, and the classes that child classes are derived from are called parent classes.\n",
    "\n",
    "Child classes can override or extend the attributes and methods of parent classes. In other words, child classes inherit all of the parent’s attributes and methods but can also specify attributes and methods that are unique to themselves.\n",
    "\n",
    "Although the analogy isn’t perfect, you can think of object inheritance sort of like genetic inheritance.\n",
    "\n",
    "You may have inherited your hair color from your mother. It’s an attribute you were born with. Let’s say you decide to color your hair purple. Assuming your mother doesn’t have purple hair, you’ve just **overridden** the hair color attribute that you inherited from your mom.\n",
    "\n",
    "You also inherit, in a sense, your language from your parents. If your parents speak English, then you’ll also speak English. Now imagine you decide to learn a second language, like German. In this case you’ve **extended** your attributes because you’ve added an attribute that your parents don’t have."
   ]
  },
  {
   "cell_type": "markdown",
   "id": "8b58dbc3",
   "metadata": {},
   "source": [
    "## Dog Park Example\n",
    "Pretend for a moment that you’re at a dog park. There are many dogs of different breeds at the park, all engaging in various dog behaviors.\n",
    "\n",
    "Suppose now that you want to model the dog park with Python classes. The Dog class that you wrote in the previous section can distinguish dogs by name and age but not by breed.\n",
    "\n",
    "You could modify the Dog class in the editor window by adding a `.breed` attribute:"
   ]
  },
  {
   "cell_type": "code",
   "execution_count": null,
   "id": "4e273530",
   "metadata": {},
   "outputs": [],
   "source": [
    "class Dog:\n",
    "    species = \"Canis familiaris\"\n",
    "\n",
    "    def __init__(self, name, age, breed):\n",
    "        self.name = name\n",
    "        self.age = age\n",
    "        self.breed = breed\n",
    "        \n",
    "    def __str__(self):\n",
    "        return f\"{self.name} is {self.age} years old\"\n",
    "        \n",
    "    def speak(self, sound):\n",
    "        return f\"{self.name} says {sound}\""
   ]
  },
  {
   "cell_type": "markdown",
   "id": "85088abb",
   "metadata": {},
   "source": [
    "The instance methods defined earlier are omitted here because they aren’t important for this discussion.\n",
    "\n",
    "Now you can model the dog park by instantiating a bunch of different dogs."
   ]
  },
  {
   "cell_type": "code",
   "execution_count": null,
   "id": "2abb1766",
   "metadata": {},
   "outputs": [],
   "source": [
    "miles = Dog(\"Miles\", 4, \"Jack Russell Terrier\")\n",
    "buddy = Dog(\"Buddy\", 9, \"Dachshund\")\n",
    "jack = Dog(\"Jack\", 3, \"Bulldog\")\n",
    "jim = Dog(\"Jim\", 5, \"Bulldog\")"
   ]
  },
  {
   "cell_type": "markdown",
   "id": "bca9d4d8",
   "metadata": {},
   "source": [
    "Each breed of dog has slightly different behaviors. For example, bulldogs have a low bark that sounds like woof, but dachshunds have a higher-pitched bark that sounds more like yap.\n",
    "\n",
    "Using just the Dog class, you must supply a string for the sound argument of .speak() every time you call it on a Dog instance:"
   ]
  },
  {
   "cell_type": "code",
   "execution_count": null,
   "id": "a5203b35",
   "metadata": {},
   "outputs": [],
   "source": [
    "buddy.speak(\"Yap\")"
   ]
  },
  {
   "cell_type": "code",
   "execution_count": null,
   "id": "ed2df018",
   "metadata": {},
   "outputs": [],
   "source": [
    "jim.speak(\"Woof\")"
   ]
  },
  {
   "cell_type": "code",
   "execution_count": null,
   "id": "78abfa3b",
   "metadata": {},
   "outputs": [],
   "source": [
    "jack.speak(\"Woof\")"
   ]
  },
  {
   "cell_type": "markdown",
   "id": "2af0f155",
   "metadata": {},
   "source": [
    "Passing a string to every call to `.speak()` is repetitive and inconvenient. Moreover, the string representing the sound that each Dog instance makes should be determined by its `.breed` attribute, but here you have to manually pass the correct string to `.speak()` every time it’s called.\n",
    "\n",
    "You can simplify the experience of working with the Dog class by creating a child class for each breed of dog. This allows you to extend the functionality that each child class inherits, including specifying a default argument for `.speak()`."
   ]
  },
  {
   "cell_type": "markdown",
   "id": "4d8414a4",
   "metadata": {},
   "source": [
    "## Parent Classes vs Child Classes\n",
    "Let’s create a child class for each of the three breeds mentioned above: Jack Russell Terrier, Dachshund, and Bulldog.\n",
    "\n",
    "For reference, here’s the full definition of the Dog class:"
   ]
  },
  {
   "cell_type": "code",
   "execution_count": null,
   "id": "7bdec82d",
   "metadata": {},
   "outputs": [],
   "source": [
    "class Dog:\n",
    "    species = \"Canis familiaris\"\n",
    "\n",
    "    def __init__(self, name, age):\n",
    "        self.name = name\n",
    "        self.age = age\n",
    "\n",
    "    def __str__(self):\n",
    "        return f\"{self.name} is {self.age} years old\"\n",
    "\n",
    "    def speak(self, sound):\n",
    "        return f\"{self.name} says {sound}\""
   ]
  },
  {
   "cell_type": "markdown",
   "id": "6559ec38",
   "metadata": {},
   "source": [
    "Remember, to create a child class, you create new class with its own name and then put the name of the parent class in parentheses. Add the following to the dog.py file to create three new child classes of the Dog class:"
   ]
  },
  {
   "cell_type": "code",
   "execution_count": null,
   "id": "a98ba9be",
   "metadata": {},
   "outputs": [],
   "source": [
    "class JackRussellTerrier(Dog):\n",
    "    pass\n",
    "\n",
    "class Dachshund(Dog):\n",
    "    pass\n",
    "\n",
    "class Bulldog(Dog):\n",
    "    pass"
   ]
  },
  {
   "cell_type": "markdown",
   "id": "bc03e574",
   "metadata": {},
   "source": [
    "With the child classes defined, you can now instantiate some dogs of specific breeds:"
   ]
  },
  {
   "cell_type": "code",
   "execution_count": null,
   "id": "ad773e37",
   "metadata": {},
   "outputs": [],
   "source": [
    "miles = JackRussellTerrier(\"Miles\", 4)\n",
    "buddy = Dachshund(\"Buddy\", 9)\n",
    "jack = Bulldog(\"Jack\", 3)\n",
    "jim = Bulldog(\"Jim\", 5)"
   ]
  },
  {
   "cell_type": "markdown",
   "id": "d0cf540a",
   "metadata": {},
   "source": [
    "Instances of child classes inherit all of the attributes and methods of the parent class:"
   ]
  },
  {
   "cell_type": "code",
   "execution_count": null,
   "id": "6e1355db",
   "metadata": {},
   "outputs": [],
   "source": [
    "miles.species"
   ]
  },
  {
   "cell_type": "code",
   "execution_count": null,
   "id": "29c19c24",
   "metadata": {},
   "outputs": [],
   "source": [
    "buddy.name"
   ]
  },
  {
   "cell_type": "code",
   "execution_count": null,
   "id": "d7d82b8e",
   "metadata": {},
   "outputs": [],
   "source": [
    "print(jack)"
   ]
  },
  {
   "cell_type": "code",
   "execution_count": null,
   "id": "7332e071",
   "metadata": {},
   "outputs": [],
   "source": [
    "jim.speak(\"Woof\")"
   ]
  },
  {
   "cell_type": "markdown",
   "id": "d3fbdc15",
   "metadata": {},
   "source": [
    "To determine which class a given object belongs to, you can use the built-in `type()`:"
   ]
  },
  {
   "cell_type": "code",
   "execution_count": null,
   "id": "526ba94a",
   "metadata": {},
   "outputs": [],
   "source": [
    "type(miles)"
   ]
  },
  {
   "cell_type": "markdown",
   "id": "9479b176",
   "metadata": {},
   "source": [
    "What if you want to determine if miles is also an instance of the Dog class? You can do this with the built-in `isinstance()`:"
   ]
  },
  {
   "cell_type": "code",
   "execution_count": null,
   "id": "bf1843b4",
   "metadata": {},
   "outputs": [],
   "source": [
    "isinstance(miles, Dog)"
   ]
  },
  {
   "cell_type": "markdown",
   "id": "e5945583",
   "metadata": {},
   "source": [
    "Notice that `isinstance()` takes two arguments, an object and a class. In the example above, `isinstance()` checks if miles is an instance of the Dog class and returns `True``.\n",
    "\n",
    "The `miles`, `buddy`, `jack`, and `jim` objects are all `Dog` instances, but `miles` is not a `Bulldog` instance, and `jack` is not a `Dachshund` instance:"
   ]
  },
  {
   "cell_type": "code",
   "execution_count": null,
   "id": "0175a7fe",
   "metadata": {},
   "outputs": [],
   "source": [
    "isinstance(miles, Bulldog)"
   ]
  },
  {
   "cell_type": "code",
   "execution_count": null,
   "id": "39f07283",
   "metadata": {},
   "outputs": [],
   "source": [
    "isinstance(jack, Dachshund)"
   ]
  },
  {
   "cell_type": "markdown",
   "id": "58203986",
   "metadata": {},
   "source": [
    "More generally, all objects created from a child class are instances of the parent class, although they may not be instances of other child classes.\n",
    "\n",
    "Now that you’ve created child classes for some different breeds of dogs, let’s give each breed its own sound."
   ]
  },
  {
   "cell_type": "markdown",
   "id": "bf12a1d7",
   "metadata": {},
   "source": [
    "## Extend the Functionality of a Parent Class\n",
    "\n",
    "Since different breeds of dogs have slightly different barks, you want to provide a default value for the sound argument of their respective `.speak()` methods. To do this, you need to override `.speak()` in the class definition for each breed.\n",
    "\n",
    "To override a method defined on the parent class, you define a method with the same name on the child class. Here’s what that looks like for the `JackRussellTerrier` class:"
   ]
  },
  {
   "cell_type": "code",
   "execution_count": null,
   "id": "b4c957df",
   "metadata": {},
   "outputs": [],
   "source": [
    "class JackRussellTerrier(Dog):\n",
    "    def speak(self, sound=\"Arf\"):\n",
    "        return f\"{self.name} says {sound}\""
   ]
  },
  {
   "cell_type": "markdown",
   "id": "4aa6091e",
   "metadata": {},
   "source": [
    "Now `.speak()` is defined on the `JackRussellTerrier` class with the default argument for sound set to \"Arf\".\n",
    "\n",
    "You can now call `.speak()` on a `JackRussellTerrier` instance without passing an argument to sound:"
   ]
  },
  {
   "cell_type": "code",
   "execution_count": null,
   "id": "f8850596",
   "metadata": {},
   "outputs": [],
   "source": [
    "miles = JackRussellTerrier(\"Miles\", 4)\n",
    "miles.speak()"
   ]
  },
  {
   "cell_type": "markdown",
   "id": "fdff05de",
   "metadata": {},
   "source": [
    "Sometimes dogs make different barks, so if Miles gets angry and growls, you can still call `.speak()` with a different sound:"
   ]
  },
  {
   "cell_type": "code",
   "execution_count": null,
   "id": "504ad893",
   "metadata": {},
   "outputs": [],
   "source": [
    "miles.speak(\"Grrr\")"
   ]
  },
  {
   "cell_type": "markdown",
   "id": "972267ca",
   "metadata": {},
   "source": [
    "One thing to keep in mind about class inheritance is that changes to the parent class automatically propagate to child classes. This occurs as long as the attribute or method being changed isn’t overridden in the child class.\n",
    "\n",
    "For example, in the editor window, change the string returned by `.speak()` in the `Dog` class:"
   ]
  },
  {
   "cell_type": "code",
   "execution_count": null,
   "id": "b96fab55",
   "metadata": {},
   "outputs": [],
   "source": [
    "class Dog:\n",
    "\n",
    "    species = \"Canis familiaris\"\n",
    "    \n",
    "    def __init__(self, name, age):\n",
    "        self.name = name\n",
    "        self.age = age\n",
    "\n",
    "    def __str__(self):\n",
    "        return f\"{self.name} is {self.age} years old\"\n",
    "\n",
    "    # Change the string returned by .speak()\n",
    "    def speak(self, sound):\n",
    "        return f\"{self.name} barks: {sound}\""
   ]
  },
  {
   "cell_type": "markdown",
   "id": "22dfb83b",
   "metadata": {},
   "source": [
    "Now, when you create a new `Bulldog` instance named `jim`, `jim.speak()` returns the new string:"
   ]
  },
  {
   "cell_type": "code",
   "execution_count": null,
   "id": "2ec20805",
   "metadata": {},
   "outputs": [],
   "source": [
    "class Bulldog(Dog):\n",
    "    pass"
   ]
  },
  {
   "cell_type": "code",
   "execution_count": null,
   "id": "742106d7",
   "metadata": {},
   "outputs": [],
   "source": [
    "jim = Bulldog(\"Jim\", 5)\n",
    "jim.speak(\"Woof\")"
   ]
  },
  {
   "cell_type": "markdown",
   "id": "6895a954",
   "metadata": {},
   "source": [
    "However, calling `.speak()` on a `JackRussellTerrier` instance won’t show the new style of output:"
   ]
  },
  {
   "cell_type": "code",
   "execution_count": null,
   "id": "5036af01",
   "metadata": {},
   "outputs": [],
   "source": [
    "class JackRussellTerrier(Dog):\n",
    "    \n",
    "    def speak(self, sound=\"Arf\"):\n",
    "        return f\"{self.name} says {sound}\""
   ]
  },
  {
   "cell_type": "code",
   "execution_count": null,
   "id": "d84dde82",
   "metadata": {},
   "outputs": [],
   "source": [
    "miles = JackRussellTerrier(\"Miles\", 4)\n",
    "miles.speak()"
   ]
  },
  {
   "cell_type": "markdown",
   "id": "315d4f93",
   "metadata": {},
   "source": [
    "Sometimes it makes sense to completely override a method from a parent class. But in this instance, we don’t want the `JackRussellTerrier` class to lose any changes that might be made to the formatting of the output string of `Dog.speak()`.\n",
    "\n",
    "To do this, you still need to define a `.speak()` method on the child `JackRussellTerrier` class. But instead of explicitly defining the output string, you need to call the Dog class’s `.speak()` inside of the child class’s `.speak()` using the same arguments that you passed to `JackRussellTerrier.speak()`.\n",
    "\n",
    "You can access the parent class from inside a method of a child class by using `super()`:"
   ]
  },
  {
   "cell_type": "code",
   "execution_count": null,
   "id": "8e7b1d92",
   "metadata": {},
   "outputs": [],
   "source": [
    "class JackRussellTerrier(Dog):\n",
    "    \n",
    "    def speak(self, sound=\"Arf\"):\n",
    "        return super().speak(sound)"
   ]
  },
  {
   "cell_type": "markdown",
   "id": "f65bbc94",
   "metadata": {},
   "source": [
    "When you call `super().speak(sound)` inside `JackRussellTerrier`, Python searches the parent class, `Dog`, for a `.speak()` method and calls it with the variable sound.\n",
    "\n",
    "So you can test it:"
   ]
  },
  {
   "cell_type": "code",
   "execution_count": null,
   "id": "5fc6b36c",
   "metadata": {},
   "outputs": [],
   "source": [
    "miles = JackRussellTerrier(\"Miles\", 4)\n",
    "miles.speak()"
   ]
  },
  {
   "cell_type": "markdown",
   "id": "56170de0",
   "metadata": {},
   "source": [
    "Now when you call `miles.speak()`, you’ll see output reflecting the new formatting in the `Dog` class.\n",
    "\n",
    "> **Note:** In the above examples, the class hierarchy is very straightforward. The `JackRussellTerrier` class has a single parent class, `Dog`. In real-world examples, the class hierarchy can get quite complicated.\n",
    "> `super()` does much more than just search the parent class for a method or an attribute. It traverses the entire class hierarchy for a matching method or attribute. If you aren’t careful, `super()` can have surprising results.\n",
    "\n",
    "----------"
   ]
  },
  {
   "cell_type": "markdown",
   "id": "2236ff5e",
   "metadata": {},
   "source": [
    "# Your turn!\n",
    "\n",
    "Check your understanding, go to the [exercise](exercises/ex_2.ipynb)!"
   ]
  },
  {
   "cell_type": "markdown",
   "id": "1bd29847",
   "metadata": {},
   "source": [
    "----------"
   ]
  }
 ],
 "metadata": {
  "kernelspec": {
   "display_name": "Python 3 (ipykernel)",
   "language": "python",
   "name": "python3"
  },
  "language_info": {
   "codemirror_mode": {
    "name": "ipython",
    "version": 3
   },
   "file_extension": ".py",
   "mimetype": "text/x-python",
   "name": "python",
   "nbconvert_exporter": "python",
   "pygments_lexer": "ipython3",
   "version": "3.11.0"
  }
 },
 "nbformat": 4,
 "nbformat_minor": 5
}
