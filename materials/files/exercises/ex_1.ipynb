{
 "cells": [
  {
   "cell_type": "markdown",
   "id": "65e9672d",
   "metadata": {},
   "source": [
    "# Exercise\n",
    "\n",
    "-------"
   ]
  },
  {
   "cell_type": "markdown",
   "id": "1fd059b6",
   "metadata": {},
   "source": [
    "# 1 \n",
    "In a classroom of 100 students, the teacher recorded each student's score in `scores.txt` file. Write a program to compute the average score of this classroom."
   ]
  },
  {
   "cell_type": "code",
   "execution_count": null,
   "id": "895c8d0c",
   "metadata": {},
   "outputs": [],
   "source": [
    "# Your code here.\n",
    "\n",
    "\n"
   ]
  },
  {
   "cell_type": "markdown",
   "id": "3c481c43",
   "metadata": {},
   "source": [
    "-------\n",
    "\n",
    "# 2\n",
    "\n",
    "Write a program for gathering the best favorite dishs from customers.\n",
    "Save the results in `best_dishes.txt`."
   ]
  },
  {
   "cell_type": "code",
   "execution_count": 7,
   "id": "6b4afb34",
   "metadata": {},
   "outputs": [],
   "source": [
    "# Your code here.\n",
    "\n",
    "\n"
   ]
  },
  {
   "cell_type": "markdown",
   "id": "c5a27f67",
   "metadata": {},
   "source": [
    "--------\n",
    "# 3\n",
    "\n",
    "The Super Robot Company uses the `.rob` file to control their robot's moving. Each line of this file contains a sequence of texts in the format `XN` where `X` indicates a moving direction in 2D-plane, which is one of the following:\n",
    "\n",
    "<img src=../images/2d-grid.png>\n",
    "\n",
    "- **U**: to move upward\n",
    "- **D**: to move downward\n",
    "- **L**: to move left\n",
    "- **R**: to move right\n",
    "\n",
    "and `N` is a positive integer saying how far a robot go in `X` diection.\n",
    "\n",
    "For example, if the file `wall-e.rob` contained:\n",
    "```console\n",
    "R3\n",
    "W2\n",
    "L1\n",
    "```\n",
    "we expected the following moveset: a robot would move right for 3 units, move upward for 2 units and then finally move left for 1 unit.\n",
    "\n",
    "Assume that a robot starts at the origin $(0,0)$, write a program to compute where the robot will stop. Also compute the distance (from the origin) of the moveset."
   ]
  },
  {
   "cell_type": "code",
   "execution_count": 9,
   "id": "e19120a4",
   "metadata": {},
   "outputs": [],
   "source": [
    "# Your code here\n",
    "\n",
    "\n",
    "\n"
   ]
  },
  {
   "cell_type": "markdown",
   "id": "a557f6d2",
   "metadata": {},
   "source": [
    "------------"
   ]
  }
 ],
 "metadata": {
  "kernelspec": {
   "display_name": "Python 3 (ipykernel)",
   "language": "python",
   "name": "python3"
  },
  "language_info": {
   "codemirror_mode": {
    "name": "ipython",
    "version": 3
   },
   "file_extension": ".py",
   "mimetype": "text/x-python",
   "name": "python",
   "nbconvert_exporter": "python",
   "pygments_lexer": "ipython3",
   "version": "3.11.0"
  }
 },
 "nbformat": 4,
 "nbformat_minor": 5
}
