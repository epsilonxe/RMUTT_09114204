{
 "cells": [
  {
   "cell_type": "markdown",
   "id": "f7393a58",
   "metadata": {},
   "source": [
    "# Reading and Writing Files in Python\n",
    "\n",
    "One of the most common tasks that you can do with Python is reading and writing files. Whether it’s writing to a simple text file, reading a complicated server log, or even analyzing raw byte data, all of these situations require reading or writing a file.\n",
    "\n",
    "In this tutorial, you’ll learn:\n",
    "\n",
    "- What makes up a file and why that’s important in Python\n",
    "- The basics of reading and writing files in Python\n",
    "- Some basic scenarios of reading and writing files\n",
    "This tutorial is mainly for beginner to intermediate Pythonistas, but there are some tips in here that more advanced programmers may appreciate as well."
   ]
  },
  {
   "cell_type": "markdown",
   "id": "b597d3fb",
   "metadata": {},
   "source": [
    "# What Is a File?\n",
    "Before we can go into how to work with files in Python, it’s important to understand what exactly a file is and how modern operating systems handle some of their aspects.\n",
    "\n",
    "At its core, a file is a contiguous set of bytes [used to store data](https://en.wikipedia.org/wiki/Computer_file). This data is organized in a specific format and can be anything as simple as a text file or as complicated as a program executable. In the end, these byte files are then translated into binary 1 and 0 for easier processing by the computer.\n",
    "\n",
    "Files on most modern file systems are composed of three main parts:\n",
    "\n",
    "1. **Header**: metadata about the contents of the file (file name, size, type, and so on)\n",
    "2. **Data**: contents of the file as written by the creator or editor\n",
    "3. **End of file (EOF)**: special character that indicates the end of the file\n",
    "\n",
    "<img src=\"images/FileFormat.webp\">\n",
    "\n",
    "What this data represents depends on the format specification used, which is typically represented by an extension. For example, a file that has an extension of `.gif` most likely conforms to the [Graphics Interchange Format](https://en.wikipedia.org/wiki/GIF) specification. There are hundreds, if not thousands, of file extensions out there. For this tutorial, you’ll only deal with `.txt` or `.csv` file extensions."
   ]
  },
  {
   "cell_type": "markdown",
   "id": "4f5c7cd1",
   "metadata": {},
   "source": [
    "# File Paths\n",
    "When you access a file on an operating system, a file path is required. The file path is a string that represents the location of a file. It’s broken up into three major parts:\n",
    "\n",
    "1. **Folder Path**: the file folder location on the file system where subsequent folders are separated by a forward slash `/` (Unix) or backslash `\\` (Windows)\n",
    "2. **File Name**: the actual name of the file\n",
    "3. **Extension**: the end of the file path pre-pended with a period (`.`) used to indicate the file type\n",
    "Here’s a quick example. Let’s say you have a file located within a file structure like this:\n",
    "\n",
    "```console\n",
    "/\n",
    "│\n",
    "├── path/\n",
    "|   │\n",
    "│   ├── to/\n",
    "│   │   └── cats.gif\n",
    "│   │\n",
    "│   └── dog_breeds.txt\n",
    "|\n",
    "└── animals.csv\n",
    "```\n",
    "\n",
    "Let’s say you wanted to access the `cats.gif` file, and your current location was in the same folder as path. In order to access the file, you need to go through the path folder and then the to folder, finally arriving at the `cats.gif` file. The Folder Path is `/path/to/`. The File Name is `cats`. The File Extension is `.gif`. So the full path is `/path/to/cats.gif`.\n",
    "\n",
    "Now let’s say that your current location or current working directory (`cwd`) is in the to folder of our example folder structure. Instead of referring to the `cats.gif` by the full path of `/path/to/cats.gif`, the file can be simply referenced by the file name and extension `cats.gif`.\n",
    "\n",
    "```console\n",
    "/\n",
    "│\n",
    "├── path/\n",
    "|   │\n",
    "|   ├── to/  ← Your current working directory (cwd) is here\n",
    "|   │   └── cats.gif  ← Accessing this file\n",
    "|   │\n",
    "|   └── dog_breeds.txt\n",
    "|\n",
    "└── animals.csv\n",
    "```\n",
    "\n",
    "But what about `dog_breeds.txt`? How would you access that without using the full path? You can use the special characters double-dot (`..`) to move one directory up. This means that `../dog_breeds.txt` will reference the `dog_breeds.txt` file from the directory of to:\n",
    "\n",
    "```console\n",
    "/\n",
    "│\n",
    "├── path/  ← Referencing this parent folder\n",
    "|   │\n",
    "|   ├── to/  ← Current working directory (cwd)\n",
    "|   │   └── cats.gif\n",
    "|   │\n",
    "|   └── dog_breeds.txt  ← Accessing this file\n",
    "|\n",
    "└── animals.csv\n",
    "```\n",
    "\n",
    "The double-dot (`..`) can be chained together to traverse multiple directories above the current directory. For example, to access animals.csv from the to folder, you would use `../../animals.csv`."
   ]
  },
  {
   "cell_type": "markdown",
   "id": "b1f98bb0",
   "metadata": {},
   "source": [
    "# Line Endings\n",
    "One problem often encountered when working with file data is the representation of a new line or line ending. The line ending has its roots from back in the Morse Code era, when a specific pro-sign was used to communicate the end of a transmission or the end of a line.\n",
    "\n",
    "Later, this was standardized for teleprinters by both the International Organization for Standardization (ISO) and the American Standards Association (ASA). ASA standard states that line endings should use the sequence of the Carriage Return (CR or `\\r`) and the Line Feed (LF or `\\n`) characters (CR+LF or `\\r\\n`). The ISO standard however allowed for either the CR+LF characters or just the LF character.\n",
    "\n",
    "**Windows uses the CR+LF characters** to indicate a new line, while **Unix and the newer Mac versions use just the LF character**. This can cause some complications when you’re processing files on an operating system that is different than the file’s source. Here’s a quick example. Let’s say that we examine the file `dog_breeds.txt` that was created on a Windows system:\n",
    "\n",
    "```console\n",
    "Pug\\r\\n\n",
    "Jack Russell Terrier\\r\\n\n",
    "English Springer Spaniel\\r\\n\n",
    "German Shepherd\\r\\n\n",
    "Staffordshire Bull Terrier\\r\\n\n",
    "Cavalier King Charles Spaniel\\r\\n\n",
    "Golden Retriever\\r\\n\n",
    "West Highland White Terrier\\r\\n\n",
    "Boxer\\r\\n\n",
    "Border Terrier\\r\\n\n",
    "```\n",
    "\n",
    "This same output will be interpreted on a Unix device differently:\n",
    "\n",
    "```console\n",
    "Pug\\r\n",
    "\\n\n",
    "Jack Russell Terrier\\r\n",
    "\\n\n",
    "English Springer Spaniel\\r\n",
    "\\n\n",
    "German Shepherd\\r\n",
    "\\n\n",
    "Staffordshire Bull Terrier\\r\n",
    "\\n\n",
    "Cavalier King Charles Spaniel\\r\n",
    "\\n\n",
    "Golden Retriever\\r\n",
    "\\n\n",
    "West Highland White Terrier\\r\n",
    "\\n\n",
    "Boxer\\r\n",
    "\\n\n",
    "Border Terrier\\r\n",
    "\\n\n",
    "```"
   ]
  },
  {
   "cell_type": "markdown",
   "id": "a0a80747",
   "metadata": {},
   "source": [
    "# Character Encodings\n",
    "Another common problem that you may face is the encoding of the byte data. An encoding is a translation from byte data to human readable characters. This is typically done by assigning a numerical value to represent a character. The two most common encodings are the [ASCII](https://www.ascii-code.com/) and [UNICODE](https://unicode.org/) Formats. [ASCII can only store 128 characters](https://en.wikipedia.org/wiki/ASCII), while [Unicode can contain up to 1,114,112 characters](https://en.wikipedia.org/wiki/Unicode).\n",
    "\n",
    "ASCII is actually a subset of Unicode (UTF-8), meaning that ASCII and Unicode share the same numerical to character values. It’s important to note that parsing a file with the incorrect character encoding can lead to failures or misrepresentation of the character. For example, if a file was created using the UTF-8 encoding, and you try to parse it using the ASCII encoding, if there is a character that is outside of those 128 values, then an error will be thrown."
   ]
  },
  {
   "cell_type": "markdown",
   "id": "a972b15f",
   "metadata": {},
   "source": [
    "# Opening and Closing a File in Python\n",
    "When you want to work with a file, the first thing to do is to open it. This is done by invoking the [`open()` built-in function](https://docs.python.org/3/library/functions.html#open). `open()` has a single required argument that is the path to the file. `open()` has a single return, the file object:"
   ]
  },
  {
   "cell_type": "code",
   "execution_count": null,
   "id": "864a1128",
   "metadata": {},
   "outputs": [],
   "source": [
    "file = open('dog_breeds.txt')"
   ]
  },
  {
   "cell_type": "markdown",
   "id": "25d9664e",
   "metadata": {},
   "source": [
    "After you open a file, the next thing to learn is how to close it.\n",
    "\n",
    "\n",
    "It’s important to remember that it’s your responsibility to close the file. In most cases, upon termination of an application or script, a file will be closed eventually. However, there is no guarantee when exactly that will happen. This can lead to unwanted behavior including resource leaks. It’s also a best practice within Python (Pythonic) to make sure that your code behaves in a way that is well defined and reduces any unwanted behavior."
   ]
  },
  {
   "cell_type": "code",
   "execution_count": null,
   "id": "5eb77da9",
   "metadata": {},
   "outputs": [],
   "source": [
    "reader = open('dog_breeds.txt')\n",
    "\n",
    "# Further file processing goes here\n",
    "# ...\n",
    "\n",
    "reader.close()"
   ]
  },
  {
   "cell_type": "markdown",
   "id": "93f2bb38",
   "metadata": {},
   "source": [
    "The second way to close a file is to use the `with` statement:"
   ]
  },
  {
   "cell_type": "code",
   "execution_count": null,
   "id": "993ee79a",
   "metadata": {},
   "outputs": [],
   "source": [
    "with open('dog_breeds.txt') as reader:\n",
    "    # Further file processing goes here\n",
    "    pass"
   ]
  },
  {
   "cell_type": "markdown",
   "id": "f8b59f5e",
   "metadata": {},
   "source": [
    "The with statement automatically takes care of closing the file once it leaves the with block, even in cases of error. I highly recommend that you use the with statement as much as possible, as it allows for cleaner code and makes handling any unexpected errors easier for you.\n",
    "\n",
    "Most likely, you’ll also want to use the second positional argument, mode. This argument is a string that contains multiple characters to represent how you want to open the file. The default and most common is `'r'`, which represents opening the file in read-only mode as a text file:"
   ]
  },
  {
   "cell_type": "code",
   "execution_count": null,
   "id": "d85837e4",
   "metadata": {},
   "outputs": [],
   "source": [
    "with open('dog_breeds.txt', 'r') as reader:\n",
    "    # Further file processing goes here\n",
    "    pass"
   ]
  },
  {
   "cell_type": "markdown",
   "id": "fad251ec",
   "metadata": {},
   "source": [
    "Other options for modes are [fully documented online](https://docs.python.org/3/library/functions.html#open), but the most commonly used ones are the following:\n",
    "\n",
    "| Character |\tMeaning |\n",
    "|:-----------:|:-----------|\n",
    "|`'r'`\t| Open for reading (default) |\n",
    "| `'w'`\t| Open for writing, truncating (overwriting) the file first |\n",
    "| `'rb'`\t| Open in binary mode (read using byte data) |\n",
    "| `'wb'`\t| Open in binary mode (write using byte data) |\n",
    "\n",
    "Let’s go back and talk a little about file objects. A file object is:\n",
    "\n",
    ">“an object exposing a file-oriented API (with methods such as read() or write()) to an underlying resource.” ([Source](https://docs.python.org/3/glossary.html#term-file-object))\n",
    "\n",
    "There are three different categories of file objects:\n",
    "\n",
    "- Text files\n",
    "- Buffered binary files\n",
    "- Raw binary files\n",
    "\n",
    "Each of these file types are defined in the `io` module. Here’s a quick rundown of how everything lines up."
   ]
  },
  {
   "cell_type": "markdown",
   "id": "53b656ec",
   "metadata": {},
   "source": [
    "# Text File Types\n",
    "A text file is the most common file that you’ll encounter. Here are some examples of how these files are opened:\n",
    "\n",
    "```python\n",
    "open('abc.txt')\n",
    "\n",
    "open('abc.txt', 'r')\n",
    "\n",
    "open('abc.txt', 'w')\n",
    "```\n",
    "\n",
    "With these types of files, `open()` will return a `TextIOWrapper` file object:"
   ]
  },
  {
   "cell_type": "code",
   "execution_count": null,
   "id": "4c53a29f",
   "metadata": {},
   "outputs": [],
   "source": [
    "file = open('dog_breeds.txt')"
   ]
  },
  {
   "cell_type": "code",
   "execution_count": null,
   "id": "a85b9d50",
   "metadata": {},
   "outputs": [],
   "source": [
    "type(file)"
   ]
  },
  {
   "cell_type": "code",
   "execution_count": null,
   "id": "f3aae9c9",
   "metadata": {},
   "outputs": [],
   "source": [
    "file.close()"
   ]
  },
  {
   "cell_type": "markdown",
   "id": "43eb8236",
   "metadata": {},
   "source": [
    "This is the default file object returned by open()."
   ]
  },
  {
   "cell_type": "markdown",
   "id": "25a41be3",
   "metadata": {},
   "source": [
    "# Buffered Binary File Types\n",
    "A buffered binary file type is used for reading and writing binary files. Here are some examples of how these files are opened:\n",
    "\n",
    "```python\n",
    "open('abc.txt', 'rb')\n",
    "\n",
    "open('abc.txt', 'wb')\n",
    "```\n",
    "\n",
    "With these types of files, `open()` will return either a `BufferedReader` or `BufferedWriter` file object:"
   ]
  },
  {
   "cell_type": "code",
   "execution_count": null,
   "id": "85177ca2",
   "metadata": {},
   "outputs": [],
   "source": [
    "file = open('dog_breeds.txt', 'rb')"
   ]
  },
  {
   "cell_type": "code",
   "execution_count": null,
   "id": "441176a2",
   "metadata": {},
   "outputs": [],
   "source": [
    "type(file)"
   ]
  },
  {
   "cell_type": "code",
   "execution_count": null,
   "id": "510f0307",
   "metadata": {},
   "outputs": [],
   "source": [
    "file.close()"
   ]
  },
  {
   "cell_type": "code",
   "execution_count": null,
   "id": "27ba4b43",
   "metadata": {},
   "outputs": [],
   "source": [
    "file = open('dog_breeds.txt', 'wb')"
   ]
  },
  {
   "cell_type": "code",
   "execution_count": null,
   "id": "9d83cf7c",
   "metadata": {},
   "outputs": [],
   "source": [
    "type(file)"
   ]
  },
  {
   "cell_type": "code",
   "execution_count": null,
   "id": "5a2b6d35",
   "metadata": {},
   "outputs": [],
   "source": [
    "file.close()"
   ]
  },
  {
   "cell_type": "markdown",
   "id": "0464b24d",
   "metadata": {},
   "source": [
    "# Raw File Types\n",
    "A raw file type is:\n",
    "\n",
    ">“generally used as a low-level building-block for binary and text streams.” ([Source](https://docs.python.org/3.7/library/io.html#raw-i-o))\n",
    "It is therefore not typically used.\n",
    "\n",
    "Here’s an example of how these files are opened:\n",
    "\n",
    "```python\n",
    "open('abc.txt', 'rb', buffering=0)\n",
    "```\n",
    "\n",
    "With these types of files, `open()` will return a `FileIO` file object:"
   ]
  },
  {
   "cell_type": "code",
   "execution_count": null,
   "id": "d9bceb74",
   "metadata": {},
   "outputs": [],
   "source": [
    "file = open('dog_breeds.txt', 'rb', buffering=0)"
   ]
  },
  {
   "cell_type": "code",
   "execution_count": null,
   "id": "d7e77886",
   "metadata": {},
   "outputs": [],
   "source": [
    "type(file)"
   ]
  },
  {
   "cell_type": "code",
   "execution_count": null,
   "id": "c6a5d7dc",
   "metadata": {},
   "outputs": [],
   "source": [
    "file.close()"
   ]
  },
  {
   "cell_type": "markdown",
   "id": "d1e78264",
   "metadata": {},
   "source": [
    "# Reading and Writing Opened Files\n",
    "\n",
    "Once you’ve opened up a file, you’ll want to read or write to the file. First off, let’s cover reading a file. There are multiple methods that can be called on a file object to help you out:\n",
    "\n",
    "| Method  |\tWhat It Does |\n",
    "|:---------|:--------------|\n",
    "|`.read(size=-1)` |\tThis reads from the file based on the number of size bytes. If no argument is passed or None or -1 is passed, then the entire file is read.|\n",
    "| `.readline(size=-1)`\t| This reads at most size number of characters from the line. This continues to the end of the line and then wraps back around. If no argument is passed or None or -1 is passed, then the entire line (or rest of the line) is read.|\n",
    "| `.readlines()` |\tThis reads the remaining lines from the file object and returns them as a list.|\n",
    "\n",
    "Using the same `dog_breeds.txt` file you used above, let’s go through some examples of how to use these methods. Here’s an example of how to open and read the entire file using `.read()`:\n"
   ]
  },
  {
   "cell_type": "code",
   "execution_count": null,
   "id": "b6a94b15",
   "metadata": {},
   "outputs": [],
   "source": [
    "with open('dog_breeds.txt', 'r') as reader:\n",
    "    print(reader.read())"
   ]
  },
  {
   "cell_type": "markdown",
   "id": "4976dea1",
   "metadata": {},
   "source": [
    "Here’s an example of how to read 5 bytes of a line each time using the Python `.readline()` method:"
   ]
  },
  {
   "cell_type": "code",
   "execution_count": null,
   "id": "3035791e",
   "metadata": {},
   "outputs": [],
   "source": [
    "with open('dog_breeds.txt', 'r') as reader:\n",
    "    # Read & print the first 5 characters of the line 5 times\n",
    "    print(reader.readline(5))\n",
    "    # Notice that line is greater than the 5 chars and continues\n",
    "    # down the line, reading 5 chars each time until the end of the\n",
    "    # line and then \"wraps\" around\n",
    "    print(reader.readline(5))\n",
    "    print(reader.readline(5))\n",
    "    print(reader.readline(5))\n",
    "    print(reader.readline(5))"
   ]
  },
  {
   "cell_type": "markdown",
   "id": "4f4d79af",
   "metadata": {},
   "source": [
    "Here’s an example of how to read the entire file as a list using the Python `.readlines()` method:"
   ]
  },
  {
   "cell_type": "code",
   "execution_count": null,
   "id": "7279425d",
   "metadata": {},
   "outputs": [],
   "source": [
    "with open('dog_breeds.txt', 'r') as reader:\n",
    "    print(reader.readlines())"
   ]
  },
  {
   "cell_type": "markdown",
   "id": "d0c24478",
   "metadata": {},
   "source": [
    "# Iterating Over Each Line in the File\n",
    "\n",
    "A common thing to do while reading a file is to iterate over each line. Here’s an example of how to use the Python `.readline()` method to perform that iteration:"
   ]
  },
  {
   "cell_type": "code",
   "execution_count": null,
   "id": "0970c6a8",
   "metadata": {},
   "outputs": [],
   "source": [
    "with open('dog_breeds.txt', 'r') as reader:\n",
    "    # Read and print the entire file line by line\n",
    "    line = reader.readline()\n",
    "    while line != '':  # The EOF char is an empty string\n",
    "        print(line, end='')\n",
    "        line = reader.readline()"
   ]
  },
  {
   "cell_type": "markdown",
   "id": "550620ae",
   "metadata": {},
   "source": [
    "Another way you could iterate over each line in the file is to use the Python `.readlines()` method of the file object. Remember, `.readlines()` returns a list where each element in the list represents a line in the file:"
   ]
  },
  {
   "cell_type": "code",
   "execution_count": null,
   "id": "6f4ee474",
   "metadata": {},
   "outputs": [],
   "source": [
    "with open('dog_breeds.txt', 'r') as reader:\n",
    "    for line in reader.readlines():\n",
    "        print(line, end='')"
   ]
  },
  {
   "cell_type": "markdown",
   "id": "aa6ada19",
   "metadata": {},
   "source": [
    "However, the above examples can be further simplified by iterating over the file object itself:"
   ]
  },
  {
   "cell_type": "code",
   "execution_count": null,
   "id": "66c148db",
   "metadata": {},
   "outputs": [],
   "source": [
    "with open('dog_breeds.txt', 'r') as reader:\n",
    "    # Read and print the entire file line by line\n",
    "    for line in reader:\n",
    "        print(line, end='')"
   ]
  },
  {
   "cell_type": "markdown",
   "id": "d7725dc1",
   "metadata": {},
   "source": [
    "This final approach is more Pythonic and can be quicker and more memory efficient. Therefore, it is suggested you use this instead."
   ]
  },
  {
   "cell_type": "markdown",
   "id": "238479a8",
   "metadata": {},
   "source": [
    "Now let’s dive into writing files. As with reading files, file objects have multiple methods that are useful for writing to a file:\n",
    "\n",
    "| Method |\tWhat It Does |\n",
    "|:--------|:---------------|\n",
    "| `.write(string)` |\tThis writes the string to the file. |\n",
    "| `.writelines(seq)` |\tThis writes the sequence to the file. No line endings are appended to each sequence item. It’s up to you to add the appropriate line ending(s). |\n",
    "\n",
    "\n",
    "Here’s a quick example of using `.write()` and `.writelines()`:"
   ]
  },
  {
   "cell_type": "code",
   "execution_count": null,
   "id": "9ff88f0c",
   "metadata": {},
   "outputs": [],
   "source": [
    "with open('dog_breeds.txt', 'r') as reader:\n",
    "    dog_breeds = reader.readlines()\n",
    "\n",
    "with open('dog_breeds_reversed.txt', 'w') as writer:\n",
    "    for breed in reversed(dog_breeds):\n",
    "        writer.write(breed)"
   ]
  },
  {
   "cell_type": "markdown",
   "id": "6998b1ad",
   "metadata": {},
   "source": [
    "# Working With Bytes\n",
    "\n",
    "Sometimes, you may need to work with files using byte strings. This is done by adding the `'b'` character to the mode argument. All of the same methods for the file object apply. However, each of the methods expect and return a bytes object instead:"
   ]
  },
  {
   "cell_type": "code",
   "execution_count": null,
   "id": "d494a6a9",
   "metadata": {},
   "outputs": [],
   "source": [
    "with open('dog_breeds.txt', 'rb') as reader:\n",
    "    print(reader.readline())"
   ]
  },
  {
   "cell_type": "markdown",
   "id": "abc657d8",
   "metadata": {},
   "source": [
    "Opening a text file using the b flag isn’t that interesting. Let’s say we have this cute picture of a Jack Russell Terrier (`images/jack_russell.png`):\n",
    "\n",
    "<img src=\"images/jack_russell.png\">\n",
    "\n",
    "You can actually open that file in Python and examine the contents! Since the [`.png` file format](https://en.wikipedia.org/wiki/Portable_Network_Graphics) is well defined, the header of the file is 8 bytes broken up like this:\n",
    "\n",
    "|Value|\tInterpretation|\n",
    "|-----|---------------|\n",
    "|0x89|\tA “magic” number to indicate that this is the start of a PNG|\n",
    "|0x50 0x4E 0x47\t| PNG in ASCII |\n",
    "|0x0D 0x0A |\tA DOS style line ending \\r\\n |\n",
    "|0x1A|\tA DOS style EOF character |\n",
    "|0x0A|\tA Unix style line ending \\n |\n",
    "\n",
    "Sure enough, when you open the file and read these bytes individually, you can see that this is indeed a `.png` header file:"
   ]
  },
  {
   "cell_type": "code",
   "execution_count": null,
   "id": "772b7bc5",
   "metadata": {},
   "outputs": [],
   "source": [
    "with open('images/jack_russell.png', 'rb') as byte_reader:\n",
    "    print(byte_reader.read(1))\n",
    "    print(byte_reader.read(3))\n",
    "    print(byte_reader.read(2))\n",
    "    print(byte_reader.read(1))\n",
    "    print(byte_reader.read(1))"
   ]
  },
  {
   "cell_type": "code",
   "execution_count": null,
   "id": "f95cc38d",
   "metadata": {},
   "outputs": [],
   "source": [
    "with open('images/jack_russell.png', 'rb') as byte_reader:\n",
    "    for x in byte_reader:\n",
    "        print(x)"
   ]
  },
  {
   "cell_type": "markdown",
   "id": "a20703e0",
   "metadata": {},
   "source": [
    "# Appending to a File\n",
    "\n",
    "Sometimes, you may want to append to a file or start writing at the end of an already populated file. This is easily done by using the `'a'` character for the mode argument:"
   ]
  },
  {
   "cell_type": "code",
   "execution_count": null,
   "id": "ef3f3fec",
   "metadata": {},
   "outputs": [],
   "source": [
    "with open('dog_breeds.txt', 'a') as a_writer:\n",
    "    a_writer.write('\\nBeagle')"
   ]
  },
  {
   "cell_type": "markdown",
   "id": "98864256",
   "metadata": {},
   "source": [
    "When you examine `dog_breeds.txt` again, you’ll see that the beginning of the file is unchanged and `Beagle` is now added to the end of the file:"
   ]
  },
  {
   "cell_type": "code",
   "execution_count": null,
   "id": "523700e4",
   "metadata": {},
   "outputs": [],
   "source": [
    "with open('dog_breeds.txt', 'r') as reader:\n",
    "    print(reader.read())"
   ]
  },
  {
   "cell_type": "markdown",
   "id": "62d41537",
   "metadata": {},
   "source": [
    "-----------\n",
    "# Your turn!\n",
    "\n",
    "It is your turn to test how much you understand the ways we work with files in Python. Try to complete [the exercise](exercises/ex_1.ipynb)."
   ]
  },
  {
   "cell_type": "markdown",
   "id": "69deeda5",
   "metadata": {},
   "source": [
    "-------------"
   ]
  }
 ],
 "metadata": {
  "kernelspec": {
   "display_name": "Python 3 (ipykernel)",
   "language": "python",
   "name": "python3"
  },
  "language_info": {
   "codemirror_mode": {
    "name": "ipython",
    "version": 3
   },
   "file_extension": ".py",
   "mimetype": "text/x-python",
   "name": "python",
   "nbconvert_exporter": "python",
   "pygments_lexer": "ipython3",
   "version": "3.11.0"
  }
 },
 "nbformat": 4,
 "nbformat_minor": 5
}
